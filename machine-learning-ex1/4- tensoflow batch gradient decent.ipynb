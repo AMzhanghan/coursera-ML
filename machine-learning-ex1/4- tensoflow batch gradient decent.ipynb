{
 "cells": [
  {
   "cell_type": "markdown",
   "metadata": {},
   "source": [
    "# notes:\n",
    "* tensorflow is very picky about the shape of data, so even you np.ndarray is `(47, )`, you need to reshape it into `(47,1)` to make sure everything goes alright\n",
    "* the shape of `np.array([1,2,3,4])` is `(4, )`, instead of `(1, 4)`. this is the gocha you need to pay attention to when you are using tensorflow\n",
    "* **Adam** and **GradientDecent** optimizer have very huge difference between convergence speed, [I need to learn more about differences of optimizers](http://sebastianruder.com/optimizing-gradient-descent/)\n",
    "* I am confused about the vector and matrix. Need to get into the context of linear algebra. "
   ]
  },
  {
   "cell_type": "code",
   "execution_count": 1,
   "metadata": {
    "collapsed": true
   },
   "outputs": [],
   "source": [
    "import pandas as pd\n",
    "import numpy as np\n",
    "import matplotlib.pyplot as plt\n",
    "import seaborn as sns\n",
    "import tensorflow as tf\n",
    "\n",
    "import linear_regression as lr  # my own module\n",
    "\n",
    "%reload_ext autoreload\n",
    "%autoreload 2\n",
    "%matplotlib inline\n",
    "sns.set(context=\"notebook\", style=\"darkgrid\", palette=\"dark\")"
   ]
  },
  {
   "cell_type": "markdown",
   "metadata": {},
   "source": [
    "# prepare data"
   ]
  },
  {
   "cell_type": "code",
   "execution_count": 2,
   "metadata": {
    "collapsed": false
   },
   "outputs": [
    {
     "name": "stdout",
     "output_type": "stream",
     "text": [
      "(47, 4)\n"
     ]
    },
    {
     "data": {
      "text/html": [
       "<div>\n",
       "<table border=\"1\" class=\"dataframe\">\n",
       "  <thead>\n",
       "    <tr style=\"text-align: right;\">\n",
       "      <th></th>\n",
       "      <th>ones</th>\n",
       "      <th>square</th>\n",
       "      <th>bedrooms</th>\n",
       "      <th>price</th>\n",
       "    </tr>\n",
       "  </thead>\n",
       "  <tbody>\n",
       "    <tr>\n",
       "      <th>0</th>\n",
       "      <td>1</td>\n",
       "      <td>0.130010</td>\n",
       "      <td>-0.223675</td>\n",
       "      <td>0.475747</td>\n",
       "    </tr>\n",
       "    <tr>\n",
       "      <th>1</th>\n",
       "      <td>1</td>\n",
       "      <td>-0.504190</td>\n",
       "      <td>-0.223675</td>\n",
       "      <td>-0.084074</td>\n",
       "    </tr>\n",
       "    <tr>\n",
       "      <th>2</th>\n",
       "      <td>1</td>\n",
       "      <td>0.502476</td>\n",
       "      <td>-0.223675</td>\n",
       "      <td>0.228626</td>\n",
       "    </tr>\n",
       "    <tr>\n",
       "      <th>3</th>\n",
       "      <td>1</td>\n",
       "      <td>-0.735723</td>\n",
       "      <td>-1.537767</td>\n",
       "      <td>-0.867025</td>\n",
       "    </tr>\n",
       "    <tr>\n",
       "      <th>4</th>\n",
       "      <td>1</td>\n",
       "      <td>1.257476</td>\n",
       "      <td>1.090417</td>\n",
       "      <td>1.595389</td>\n",
       "    </tr>\n",
       "  </tbody>\n",
       "</table>\n",
       "</div>"
      ],
      "text/plain": [
       "   ones    square  bedrooms     price\n",
       "0     1  0.130010 -0.223675  0.475747\n",
       "1     1 -0.504190 -0.223675 -0.084074\n",
       "2     1  0.502476 -0.223675  0.228626\n",
       "3     1 -0.735723 -1.537767 -0.867025\n",
       "4     1  1.257476  1.090417  1.595389"
      ]
     },
     "execution_count": 2,
     "metadata": {},
     "output_type": "execute_result"
    }
   ],
   "source": [
    "raw_data = pd.read_csv('ex1data2.txt', names=['square', 'bedrooms', 'price'])\n",
    "data = lr.normalize_feature(raw_data)\n",
    "data.insert(loc=0, column='ones', value=1)  # this data.insert happend inplace..\n",
    "\n",
    "print(data.shape)\n",
    "data.head()"
   ]
  },
  {
   "cell_type": "code",
   "execution_count": 3,
   "metadata": {
    "collapsed": false
   },
   "outputs": [
    {
     "name": "stdout",
     "output_type": "stream",
     "text": [
      "(47, 3) <class 'numpy.ndarray'>\n",
      "(47, 1) <class 'numpy.ndarray'>\n"
     ]
    }
   ],
   "source": [
    "X_data = lr.get_X(data)\n",
    "print(X_data.shape, type(X_data))\n",
    "\n",
    "y_data = lr.get_y(data)\n",
    "y_data = y_data.reshape(len(y_data), 1) # Tensorflow is finicky about shapes, so resize\n",
    "print(y_data.shape, type(y_data))"
   ]
  },
  {
   "cell_type": "markdown",
   "metadata": {},
   "source": [
    "# construct a graph"
   ]
  },
  {
   "cell_type": "code",
   "execution_count": 4,
   "metadata": {
    "collapsed": true
   },
   "outputs": [],
   "source": [
    "X = tf.placeholder(tf.float32, shape = X_data.shape)\n",
    "y = tf.placeholder(tf.float32, shape = y_data.shape)"
   ]
  },
  {
   "cell_type": "code",
   "execution_count": 5,
   "metadata": {
    "collapsed": false
   },
   "outputs": [],
   "source": [
    "with tf.variable_scope('linear-regression'):\n",
    "    W = tf.get_variable(\"weights\", \n",
    "                        (X_data.shape[1], 1), \n",
    "                        initializer=tf.constant_initializer()) # n*1\n",
    "    \n",
    "    y_pred = tf.matmul(X, W)  # m*n @ n*1 -> m*1\n",
    "    \n",
    "    loss = 1/(2*len(X_data)) * tf.matmul((y_pred - y), (y_pred - y), transpose_a=True)  # (m*1).T @ m*1 = 1*1"
   ]
  },
  {
   "cell_type": "markdown",
   "metadata": {},
   "source": [
    "# run the session"
   ]
  },
  {
   "cell_type": "code",
   "execution_count": 6,
   "metadata": {
    "collapsed": false
   },
   "outputs": [
    {
     "name": "stdout",
     "output_type": "stream",
     "text": [
      "RMS is converged at epoch: 215\n",
      "RMS\n",
      "final parameters\n",
      " [[ 0.00491665]\n",
      " [ 0.87982631]\n",
      " [-0.05811893]]\n",
      "final loss=0.13073551654815674\n",
      "\n",
      "Adagrad\n",
      "final parameters\n",
      " [[  4.65326222e-09]\n",
      " [  6.29321277e-01]\n",
      " [  1.15429156e-01]]\n",
      "final loss=0.15294453501701355\n",
      "\n",
      "GD is converged at epoch: 1151\n",
      "GD\n",
      "final parameters\n",
      " [[  6.50528698e-09]\n",
      " [  8.81516397e-01]\n",
      " [ -4.99292985e-02]]\n",
      "final loss=0.13069108128547668\n",
      "\n",
      "Ftrl\n",
      "final parameters\n",
      " [[  5.30118083e-09]\n",
      " [  6.29321098e-01]\n",
      " [  1.15429364e-01]]\n",
      "final loss=0.15294456481933594\n",
      "\n",
      "Adam is converged at epoch: 296\n",
      "Adam\n",
      "final parameters\n",
      " [[ -6.84417678e-09]\n",
      " [  8.84003639e-01]\n",
      " [ -5.26335016e-02]]\n",
      "final loss=0.1306867003440857\n",
      "\n"
     ]
    },
    {
     "data": {
      "text/plain": [
       "<matplotlib.text.Text at 0x11cd2b278>"
      ]
     },
     "execution_count": 6,
     "metadata": {},
     "output_type": "execute_result"
    },
    {
     "data": {
      "image/png": "[encoded data removed]",
      "text/plain": [
       "<matplotlib.figure.Figure at 0x11cd04160>"
      ]
     },
     "metadata": {},
     "output_type": "display_data"
    }
   ],
   "source": [
    "epoch = 2000\n",
    "alpha = 0.01\n",
    "\n",
    "optimizer={'GD': tf.train.GradientDescentOptimizer,\n",
    "           'Adagrad': tf.train.AdagradOptimizer,\n",
    "           'Adam': tf.train.AdamOptimizer,\n",
    "           'Ftrl': tf.train.FtrlOptimizer,\n",
    "           'RMS': tf.train.RMSPropOptimizer\n",
    "          }\n",
    "\n",
    "fig, ax = plt.subplots(figsize=(16, 9))\n",
    "\n",
    "for optimizer_name in optimizer:\n",
    "    opt = optimizer[optimizer_name](learning_rate=alpha)\n",
    "    opt_operation = opt.minimize(loss)\n",
    "    \n",
    "    with tf.Session() as sess:\n",
    "        sess.run(tf.initialize_all_variables())\n",
    "        loss_data = []\n",
    "        \n",
    "        for i in range(epoch):\n",
    "            _, loss_val, W_val = sess.run([opt_operation, loss, W], feed_dict={X: X_data, y: y_data})\n",
    "            loss_data.append(loss_val[0,0])  # because every loss_val is 1*1 ndarray\n",
    "\n",
    "            if len(loss_data) > 1 and np.abs(loss_data[-1] - loss_data[-2]) < 10**-9:\n",
    "                print('{} is converged at epoch: {}'.format(optimizer_name, i))\n",
    "                break\n",
    "\n",
    "    ax.plot(np.arange(len(loss_data)), loss_data, label = optimizer_name)\n",
    "    \n",
    "    print(optimizer_name)\n",
    "    print('final parameters\\n', W_val)\n",
    "    print('final loss={}\\n'.format(loss_val[0,0]))\n",
    "\n",
    "ax.set_xlabel('epoch', fontsize=18)\n",
    "ax.set_ylabel('cost', fontsize=18)\n",
    "ax.legend(bbox_to_anchor=(1.05, 1), loc=2, borderaxespad=0.)\n",
    "ax.set_title('different optimizer', fontsize=18)\n"
   ]
  },
  {
   "cell_type": "code",
   "execution_count": null,
   "metadata": {
    "collapsed": true
   },
   "outputs": [],
   "source": []
  }
 ],
 "metadata": {
  "anaconda-cloud": {},
  "kernelspec": {
   "display_name": "Python [conda env:tf]",
   "language": "python",
   "name": "conda-env-tf-py"
  },
  "language_info": {
   "codemirror_mode": {
    "name": "ipython",
    "version": 3
   },
   "file_extension": ".py",
   "mimetype": "text/x-python",
   "name": "python",
   "nbconvert_exporter": "python",
   "pygments_lexer": "ipython3",
   "version": "3.5.2"
  }
 },
 "nbformat": 4,
 "nbformat_minor": 0
}

{
 "cells": [
  {
   "cell_type": "code",
   "execution_count": 1,
   "metadata": {
    "collapsed": true
   },
   "outputs": [],
   "source": [
    "import pandas as pd\n",
    "%matplotlib inline"
   ]
  },
  {
   "cell_type": "code",
   "execution_count": 2,
   "metadata": {
    "collapsed": true
   },
   "outputs": [],
   "source": [
    "df = pd.read_csv('ex1data1.txt', names=['population', 'profit'])"
   ]
  },
  {
   "cell_type": "code",
   "execution_count": 3,
   "metadata": {
    "collapsed": false
   },
   "outputs": [
    {
     "data": {
      "text/html": [
       "<div>\n",
       "<table border=\"1\" class=\"dataframe\">\n",
       "  <thead>\n",
       "    <tr style=\"text-align: right;\">\n",
       "      <th></th>\n",
       "      <th>population</th>\n",
       "      <th>profit</th>\n",
       "    </tr>\n",
       "  </thead>\n",
       "  <tbody>\n",
       "    <tr>\n",
       "      <th>0</th>\n",
       "      <td>6.1101</td>\n",
       "      <td>17.5920</td>\n",
       "    </tr>\n",
       "    <tr>\n",
       "      <th>1</th>\n",
       "      <td>5.5277</td>\n",
       "      <td>9.1302</td>\n",
       "    </tr>\n",
       "    <tr>\n",
       "      <th>2</th>\n",
       "      <td>8.5186</td>\n",
       "      <td>13.6620</td>\n",
       "    </tr>\n",
       "    <tr>\n",
       "      <th>3</th>\n",
       "      <td>7.0032</td>\n",
       "      <td>11.8540</td>\n",
       "    </tr>\n",
       "    <tr>\n",
       "      <th>4</th>\n",
       "      <td>5.8598</td>\n",
       "      <td>6.8233</td>\n",
       "    </tr>\n",
       "  </tbody>\n",
       "</table>\n",
       "</div>"
      ],
      "text/plain": [
       "   population   profit\n",
       "0      6.1101  17.5920\n",
       "1      5.5277   9.1302\n",
       "2      8.5186  13.6620\n",
       "3      7.0032  11.8540\n",
       "4      5.8598   6.8233"
      ]
     },
     "execution_count": 3,
     "metadata": {},
     "output_type": "execute_result"
    }
   ],
   "source": [
    "df.head()"
   ]
  },
  {
   "cell_type": "code",
   "execution_count": 4,
   "metadata": {
    "collapsed": false
   },
   "outputs": [
    {
     "name": "stdout",
     "output_type": "stream",
     "text": [
      "<class 'pandas.core.frame.DataFrame'>\n",
      "RangeIndex: 97 entries, 0 to 96\n",
      "Data columns (total 2 columns):\n",
      "population    97 non-null float64\n",
      "profit        97 non-null float64\n",
      "dtypes: float64(2)\n",
      "memory usage: 1.6 KB\n"
     ]
    }
   ],
   "source": [
    "df.info()"
   ]
  },
  {
   "cell_type": "markdown",
   "metadata": {},
   "source": [
    "***\n",
    "# take a look at raw data"
   ]
  },
  {
   "cell_type": "code",
   "execution_count": 5,
   "metadata": {
    "collapsed": false
   },
   "outputs": [
    {
     "data": {
      "text/plain": [
       "<matplotlib.axes._subplots.AxesSubplot at 0x7fa28c3e3240>"
      ]
     },
     "execution_count": 5,
     "metadata": {},
     "output_type": "execute_result"
    },
    {
     "data": {
      "image/png": "[encoded data removed]",
      "text/plain": [
       "<matplotlib.figure.Figure at 0x7fa28c428940>"
      ]
     },
     "metadata": {},
     "output_type": "display_data"
    }
   ],
   "source": [
    "# pandas built-in\n",
    "df.plot(x='population', y='profit', kind='scatter', figsize=(10,10))"
   ]
  },
  {
   "cell_type": "code",
   "execution_count": 6,
   "metadata": {
    "collapsed": false
   },
   "outputs": [
    {
     "data": {
      "text/html": [
       "\n",
       "    <div class=\"bk-root\">\n",
       "        <a href=\"http://bokeh.pydata.org\" target=\"_blank\" class=\"bk-logo bk-logo-small bk-logo-notebook\"></a>\n",
       "        <span id=\"f157db56-cc61-40d9-9127-3d3a69cff5b5\">Loading BokehJS ...</span>\n",
       "    </div>"
      ]
     },
     "metadata": {},
     "output_type": "display_data"
    },
    {
     "data": {
      "application/javascript": [
       "\n",
       "(function(global) {\n",
       "  function now() {\n",
       "    return new Date();\n",
       "  }\n",
       "\n",
       "  var force = \"1\";\n",
       "\n",
       "  if (typeof (window._bokeh_onload_callbacks) === \"undefined\" || force !== \"\") {\n",
       "    window._bokeh_onload_callbacks = [];\n",
       "    window._bokeh_is_loading = undefined;\n",
       "  }\n",
       "\n",
       "  function run_callbacks() {\n",
       "    window._bokeh_onload_callbacks.forEach(function(callback) { callback() });\n",
       "    delete window._bokeh_onload_callbacks\n",
       "    console.info(\"Bokeh: all callbacks have finished\");\n",
       "  }\n",
       "\n",
       "  function load_libs(js_urls, callback) {\n",
       "    window._bokeh_onload_callbacks.push(callback);\n",
       "    if (window._bokeh_is_loading > 0) {\n",
       "      console.log(\"Bokeh: BokehJS is being loaded, scheduling callback at\", now());\n",
       "      return null;\n",
       "    }\n",
       "    if (js_urls == null || js_urls.length === 0) {\n",
       "      run_callbacks();\n",
       "      return null;\n",
       "    }\n",
       "    console.log(\"Bokeh: BokehJS not loaded, scheduling load and callback at\", now());\n",
       "    window._bokeh_is_loading = js_urls.length;\n",
       "    for (var i = 0; i < js_urls.length; i++) {\n",
       "      var url = js_urls[i];\n",
       "      var s = document.createElement('script');\n",
       "      s.src = url;\n",
       "      s.async = false;\n",
       "      s.onreadystatechange = s.onload = function() {\n",
       "        window._bokeh_is_loading--;\n",
       "        if (window._bokeh_is_loading === 0) {\n",
       "          console.log(\"Bokeh: all BokehJS libraries loaded\");\n",
       "          run_callbacks()\n",
       "        }\n",
       "      };\n",
       "      s.onerror = function() {\n",
       "        console.warn(\"failed to load library \" + url);\n",
       "      };\n",
       "      console.log(\"Bokeh: injecting script tag for BokehJS library: \", url);\n",
       "      document.getElementsByTagName(\"head\")[0].appendChild(s);\n",
       "    }\n",
       "  };\n",
       "\n",
       "  var js_urls = ['https://cdn.pydata.org/bokeh/release/bokeh-0.12.1.min.js', 'https://cdn.pydata.org/bokeh/release/bokeh-widgets-0.12.1.min.js', 'https://cdn.pydata.org/bokeh/release/bokeh-compiler-0.12.1.min.js'];\n",
       "\n",
       "  var inline_js = [\n",
       "    function(Bokeh) {\n",
       "      Bokeh.set_log_level(\"info\");\n",
       "    },\n",
       "    \n",
       "    function(Bokeh) {\n",
       "      \n",
       "      Bokeh.$(\"#f157db56-cc61-40d9-9127-3d3a69cff5b5\").text(\"BokehJS successfully loaded\");\n",
       "      var kernel = Jupyter.notebook.kernel\n",
       "      if (kernel.execute !== undefined) {\n",
       "          kernel.execute(\"import bokeh.io; bokeh.io._nb_loaded = True\");\n",
       "      }\n",
       "    },\n",
       "    function(Bokeh) {\n",
       "      console.log(\"Bokeh: injecting CSS: https://cdn.pydata.org/bokeh/release/bokeh-0.12.1.min.css\");\n",
       "      Bokeh.embed.inject_css(\"https://cdn.pydata.org/bokeh/release/bokeh-0.12.1.min.css\");\n",
       "      console.log(\"Bokeh: injecting CSS: https://cdn.pydata.org/bokeh/release/bokeh-widgets-0.12.1.min.css\");\n",
       "      Bokeh.embed.inject_css(\"https://cdn.pydata.org/bokeh/release/bokeh-widgets-0.12.1.min.css\");\n",
       "    }\n",
       "  ];\n",
       "\n",
       "  function run_inline_js() {\n",
       "    for (var i = 0; i < inline_js.length; i++) {\n",
       "      inline_js[i](window.Bokeh);\n",
       "    }\n",
       "  }\n",
       "\n",
       "  if (window._bokeh_is_loading === 0) {\n",
       "    console.log(\"Bokeh: BokehJS loaded, going straight to plotting\");\n",
       "    run_inline_js();\n",
       "  } else {\n",
       "    load_libs(js_urls, function() {\n",
       "      console.log(\"Bokeh: BokehJS plotting callback run at\", now());\n",
       "      run_inline_js();\n",
       "    });\n",
       "  }\n",
       "}(this));"
      ]
     },
     "metadata": {},
     "output_type": "display_data"
    }
   ],
   "source": [
    "# bokeh\n",
    "import bokeh.charts as bc\n",
    "from bokeh.plotting import show\n",
    "from bokeh.io import output_notebook # need this for inline bokeh\n",
    "\n",
    "output_notebook()"
   ]
  },
  {
   "cell_type": "code",
   "execution_count": 7,
   "metadata": {
    "collapsed": false
   },
   "outputs": [
    {
     "data": {
      "text/html": [
       "\n",
       "\n",
       "    <div class=\"bk-root\">\n",
       "        <div class=\"plotdiv\" id=\"4d1a50e4-3bbf-4a8e-b4f0-c545f2b5fffa\"></div>\n",
       "    </div>\n",
       "<script type=\"text/javascript\">\n",
       "  \n",
       "  (function(global) {\n",
       "    function now() {\n",
       "      return new Date();\n",
       "    }\n",
       "  \n",
       "    var force = \"\";\n",
       "  \n",
       "    if (typeof (window._bokeh_onload_callbacks) === \"undefined\" || force !== \"\") {\n",
       "      window._bokeh_onload_callbacks = [];\n",
       "      window._bokeh_is_loading = undefined;\n",
       "    }\n",
       "  \n",
       "    function run_callbacks() {\n",
       "      window._bokeh_onload_callbacks.forEach(function(callback) { callback() });\n",
       "      delete window._bokeh_onload_callbacks\n",
       "      console.info(\"Bokeh: all callbacks have finished\");\n",
       "    }\n",
       "  \n",
       "    function load_libs(js_urls, callback) {\n",
       "      window._bokeh_onload_callbacks.push(callback);\n",
       "      if (window._bokeh_is_loading > 0) {\n",
       "        console.log(\"Bokeh: BokehJS is being loaded, scheduling callback at\", now());\n",
       "        return null;\n",
       "      }\n",
       "      if (js_urls == null || js_urls.length === 0) {\n",
       "        run_callbacks();\n",
       "        return null;\n",
       "      }\n",
       "      console.log(\"Bokeh: BokehJS not loaded, scheduling load and callback at\", now());\n",
       "      window._bokeh_is_loading = js_urls.length;\n",
       "      for (var i = 0; i < js_urls.length; i++) {\n",
       "        var url = js_urls[i];\n",
       "        var s = document.createElement('script');\n",
       "        s.src = url;\n",
       "        s.async = false;\n",
       "        s.onreadystatechange = s.onload = function() {\n",
       "          window._bokeh_is_loading--;\n",
       "          if (window._bokeh_is_loading === 0) {\n",
       "            console.log(\"Bokeh: all BokehJS libraries loaded\");\n",
       "            run_callbacks()\n",
       "          }\n",
       "        };\n",
       "        s.onerror = function() {\n",
       "          console.warn(\"failed to load library \" + url);\n",
       "        };\n",
       "        console.log(\"Bokeh: injecting script tag for BokehJS library: \", url);\n",
       "        document.getElementsByTagName(\"head\")[0].appendChild(s);\n",
       "      }\n",
       "    };var element = document.getElementById(\"4d1a50e4-3bbf-4a8e-b4f0-c545f2b5fffa\");\n",
       "    if (element == null) {\n",
       "      console.log(\"Bokeh: ERROR: autoload.js configured with elementid '4d1a50e4-3bbf-4a8e-b4f0-c545f2b5fffa' but no matching script tag was found. \")\n",
       "      return false;\n",
       "    }\n",
       "  \n",
       "    var js_urls = [];\n",
       "  \n",
       "    var inline_js = [\n",
       "      function(Bokeh) {\n",
       "        Bokeh.$(function() {\n",
       "            var docs_json = {\"192bb3da-4f97-4d4c-8f71-982d7637df13\":{\"roots\":{\"references\":[{\"attributes\":{\"dimension\":1,\"plot\":{\"id\":\"e61889e8-ab63-4034-a6d5-55e1c48ab36e\",\"subtype\":\"Chart\",\"type\":\"Plot\"},\"ticker\":{\"id\":\"13688dcd-e834-460d-af98-1487363a6530\",\"type\":\"BasicTicker\"}},\"id\":\"83e5a948-5afe-446b-bc99-6123748c5a0f\",\"type\":\"Grid\"},{\"attributes\":{\"fill_alpha\":{\"value\":0.7},\"fill_color\":{\"value\":\"#f22c40\"},\"line_color\":{\"value\":\"#f22c40\"},\"size\":{\"units\":\"screen\",\"value\":8},\"x\":{\"field\":\"x_values\"},\"y\":{\"field\":\"y_values\"}},\"id\":\"cea56d3f-ae57-494f-9d31-e86ae627cf0a\",\"type\":\"Circle\"},{\"attributes\":{\"callback\":null,\"end\":26.82977,\"start\":-5.3634699999999995},\"id\":\"d4457de2-dd48-48cc-a7a3-0889131ab495\",\"type\":\"Range1d\"},{\"attributes\":{\"data_source\":{\"id\":\"ba862ece-4ddf-49fa-a556-c6b74c7815fd\",\"type\":\"ColumnDataSource\"},\"glyph\":{\"id\":\"cea56d3f-ae57-494f-9d31-e86ae627cf0a\",\"type\":\"Circle\"},\"hover_glyph\":null,\"nonselection_glyph\":null,\"selection_glyph\":null},\"id\":\"9af2d5e6-2c5f-4343-bdbe-e5c0cdf4a0ad\",\"type\":\"GlyphRenderer\"},{\"attributes\":{\"overlay\":{\"id\":\"47f8861f-8a30-4b7a-827c-28eb72703b36\",\"type\":\"BoxAnnotation\"},\"plot\":{\"id\":\"e61889e8-ab63-4034-a6d5-55e1c48ab36e\",\"subtype\":\"Chart\",\"type\":\"Plot\"}},\"id\":\"8872c7a1-6639-487a-9a64-948fbfbf300c\",\"type\":\"BoxZoomTool\"},{\"attributes\":{\"plot\":{\"id\":\"e61889e8-ab63-4034-a6d5-55e1c48ab36e\",\"subtype\":\"Chart\",\"type\":\"Plot\"}},\"id\":\"4bc81ad9-76ac-4174-b211-82d2178ad442\",\"type\":\"SaveTool\"},{\"attributes\":{\"plot\":{\"id\":\"e61889e8-ab63-4034-a6d5-55e1c48ab36e\",\"subtype\":\"Chart\",\"type\":\"Plot\"}},\"id\":\"051d819f-7046-43fc-879e-c531978110b8\",\"type\":\"WheelZoomTool\"},{\"attributes\":{\"callback\":null,\"column_names\":[\"x_values\",\"y_values\"],\"data\":{\"chart_index\":[null,null,null,null,null,null,null,null,null,null,null,null,null,null,null,null,null,null,null,null,null,null,null,null,null,null,null,null,null,null,null,null,null,null,null,null,null,null,null,null,null,null,null,null,null,null,null,null,null,null,null,null,null,null,null,null,null,null,null,null,null,null,null,null,null,null,null,null,null,null,null,null,null,null,null,null,null,null,null,null,null,null,null,null,null,null,null,null,null,null,null,null,null,null,null,null,null],\"x_values\":[6.1101,5.5277,8.5186,7.0032,5.8598,8.3829,7.4764,8.5781,6.4862,5.0546,5.7107,14.164000000000001,5.734,8.4084,5.6407,5.3794,6.3654,5.1301,6.4296,7.0708,6.1891,20.27,5.4901,6.3261,5.5649,18.945,12.828,10.957,13.175999999999998,22.203000000000003,5.2524,6.5894,9.2482,5.8918,8.2111,7.9334,8.0959,5.6063,12.835999999999999,6.3534,5.4069,6.8825,11.708,5.7737,7.8247,7.0931,5.0702,5.8014,11.7,5.5416,7.5402,5.3077,7.4239,7.6031,6.3328,6.3589,6.2742,5.6397,9.3102,9.4536,8.8254,5.1793,21.279,14.908,18.959,7.2182,8.2951,10.236,5.4994,20.340999999999998,10.136000000000001,7.3345,6.0062,7.2259,5.0269,6.5479,7.5386,5.0365,10.274000000000001,5.1077,5.7292,5.1884,6.3557,9.7687,6.5159,8.5172,9.1802,6.002000000000001,5.5204,5.0594,5.7077,7.6366,5.8707,5.3054,8.2934,13.394,5.4369],\"y_values\":[17.592,9.1302,13.662,11.854000000000001,6.8233,11.886,4.3483,12.0,6.5987,3.8166,3.2522,15.505,3.1551,7.2258,0.71618,3.5129,5.3048,0.56077,3.6518,5.3893,3.1386,21.767,4.263,5.1875,3.0825,22.638,13.501,7.0467,14.692,24.147,-1.22,5.9966,12.134,1.8495,6.5426,4.5623,4.1164,3.3928,10.117,5.4974,0.55657,3.9115,5.3854,2.4406,6.7318,1.0463,5.1337,1.844,8.0043,1.0179,6.7504,1.8396,4.2885,4.9981,1.4233,-1.4211,2.4756,4.6042,3.9624,5.4141,5.1694,-0.74279,17.929000000000002,12.054,17.054000000000002,4.8852,5.7442,7.7754,1.0173,20.991999999999997,6.6799,4.0259,1.2784,3.3411,-2.6807,0.29678000000000004,3.8845,5.7014,6.7526,2.0576,0.47953,0.20421,0.67861,7.5435,5.3436,4.2415,6.7981,0.92695,0.152,2.8214,1.8451,4.2959,7.2029,1.9869,0.14454,9.0551,0.61705]}},\"id\":\"ba862ece-4ddf-49fa-a556-c6b74c7815fd\",\"type\":\"ColumnDataSource\"},{\"attributes\":{},\"id\":\"2e373c2c-a3bc-4721-ab28-c68e82fcdf67\",\"type\":\"ToolEvents\"},{\"attributes\":{\"axis_label\":\"profit\",\"formatter\":{\"id\":\"c93861d0-6e41-4c27-aab8-3670d675f388\",\"type\":\"BasicTickFormatter\"},\"plot\":{\"id\":\"e61889e8-ab63-4034-a6d5-55e1c48ab36e\",\"subtype\":\"Chart\",\"type\":\"Plot\"},\"ticker\":{\"id\":\"13688dcd-e834-460d-af98-1487363a6530\",\"type\":\"BasicTicker\"}},\"id\":\"8dce421c-06bd-4ddc-b3a0-8e765fb80c15\",\"type\":\"LinearAxis\"},{\"attributes\":{\"location\":\"top_left\",\"plot\":{\"id\":\"e61889e8-ab63-4034-a6d5-55e1c48ab36e\",\"subtype\":\"Chart\",\"type\":\"Plot\"}},\"id\":\"3e9403bc-4810-481b-ab2e-ee2b0232544a\",\"type\":\"Legend\"},{\"attributes\":{\"active_drag\":\"auto\",\"active_scroll\":\"auto\",\"active_tap\":\"auto\",\"tools\":[{\"id\":\"36ec0acf-6655-45e4-b771-117a3fe2472e\",\"type\":\"PanTool\"},{\"id\":\"051d819f-7046-43fc-879e-c531978110b8\",\"type\":\"WheelZoomTool\"},{\"id\":\"8872c7a1-6639-487a-9a64-948fbfbf300c\",\"type\":\"BoxZoomTool\"},{\"id\":\"4bc81ad9-76ac-4174-b211-82d2178ad442\",\"type\":\"SaveTool\"},{\"id\":\"652d1748-2cbd-4a6c-a329-4a900895bf25\",\"type\":\"ResetTool\"},{\"id\":\"554a9538-aa3c-46bd-b4eb-50df4d13a9d8\",\"type\":\"HelpTool\"}]},\"id\":\"c5c1867a-3749-472d-a3cc-d4578350df6f\",\"type\":\"Toolbar\"},{\"attributes\":{\"axis_label\":\"population\",\"formatter\":{\"id\":\"56f44302-a2b8-402c-b577-115f6ac383e1\",\"type\":\"BasicTickFormatter\"},\"plot\":{\"id\":\"e61889e8-ab63-4034-a6d5-55e1c48ab36e\",\"subtype\":\"Chart\",\"type\":\"Plot\"},\"ticker\":{\"id\":\"74a60c59-1dcf-458e-b577-d5b5c0fdcb1c\",\"type\":\"BasicTicker\"}},\"id\":\"bc6fd583-2c0c-42d1-9626-fe61e8b89d38\",\"type\":\"LinearAxis\"},{\"attributes\":{},\"id\":\"74a60c59-1dcf-458e-b577-d5b5c0fdcb1c\",\"type\":\"BasicTicker\"},{\"attributes\":{\"plot\":{\"id\":\"e61889e8-ab63-4034-a6d5-55e1c48ab36e\",\"subtype\":\"Chart\",\"type\":\"Plot\"}},\"id\":\"652d1748-2cbd-4a6c-a329-4a900895bf25\",\"type\":\"ResetTool\"},{\"attributes\":{},\"id\":\"13688dcd-e834-460d-af98-1487363a6530\",\"type\":\"BasicTicker\"},{\"attributes\":{\"below\":[{\"id\":\"bc6fd583-2c0c-42d1-9626-fe61e8b89d38\",\"type\":\"LinearAxis\"}],\"left\":[{\"id\":\"8dce421c-06bd-4ddc-b3a0-8e765fb80c15\",\"type\":\"LinearAxis\"}],\"renderers\":[{\"id\":\"47f8861f-8a30-4b7a-827c-28eb72703b36\",\"type\":\"BoxAnnotation\"},{\"id\":\"9af2d5e6-2c5f-4343-bdbe-e5c0cdf4a0ad\",\"type\":\"GlyphRenderer\"},{\"id\":\"3e9403bc-4810-481b-ab2e-ee2b0232544a\",\"type\":\"Legend\"},{\"id\":\"bc6fd583-2c0c-42d1-9626-fe61e8b89d38\",\"type\":\"LinearAxis\"},{\"id\":\"8dce421c-06bd-4ddc-b3a0-8e765fb80c15\",\"type\":\"LinearAxis\"},{\"id\":\"a2b2eb5f-e726-4f90-8a32-b72962ee3543\",\"type\":\"Grid\"},{\"id\":\"83e5a948-5afe-446b-bc99-6123748c5a0f\",\"type\":\"Grid\"}],\"title\":{\"id\":\"a4c23aca-2bdb-43e1-822f-80c1d22c3f04\",\"type\":\"Title\"},\"tool_events\":{\"id\":\"2e373c2c-a3bc-4721-ab28-c68e82fcdf67\",\"type\":\"ToolEvents\"},\"toolbar\":{\"id\":\"c5c1867a-3749-472d-a3cc-d4578350df6f\",\"type\":\"Toolbar\"},\"x_mapper_type\":\"auto\",\"x_range\":{\"id\":\"2b257f07-c0f6-4801-8727-cc6abfb149e0\",\"type\":\"Range1d\"},\"y_mapper_type\":\"auto\",\"y_range\":{\"id\":\"d4457de2-dd48-48cc-a7a3-0889131ab495\",\"type\":\"Range1d\"}},\"id\":\"e61889e8-ab63-4034-a6d5-55e1c48ab36e\",\"subtype\":\"Chart\",\"type\":\"Plot\"},{\"attributes\":{\"plot\":null,\"text\":null},\"id\":\"a4c23aca-2bdb-43e1-822f-80c1d22c3f04\",\"type\":\"Title\"},{\"attributes\":{\"plot\":{\"id\":\"e61889e8-ab63-4034-a6d5-55e1c48ab36e\",\"subtype\":\"Chart\",\"type\":\"Plot\"}},\"id\":\"36ec0acf-6655-45e4-b771-117a3fe2472e\",\"type\":\"PanTool\"},{\"attributes\":{\"plot\":{\"id\":\"e61889e8-ab63-4034-a6d5-55e1c48ab36e\",\"subtype\":\"Chart\",\"type\":\"Plot\"}},\"id\":\"554a9538-aa3c-46bd-b4eb-50df4d13a9d8\",\"type\":\"HelpTool\"},{\"attributes\":{\"plot\":{\"id\":\"e61889e8-ab63-4034-a6d5-55e1c48ab36e\",\"subtype\":\"Chart\",\"type\":\"Plot\"},\"ticker\":{\"id\":\"74a60c59-1dcf-458e-b577-d5b5c0fdcb1c\",\"type\":\"BasicTicker\"}},\"id\":\"a2b2eb5f-e726-4f90-8a32-b72962ee3543\",\"type\":\"Grid\"},{\"attributes\":{\"bottom_units\":\"screen\",\"fill_alpha\":{\"value\":0.5},\"fill_color\":{\"value\":\"lightgrey\"},\"left_units\":\"screen\",\"level\":\"overlay\",\"line_alpha\":{\"value\":1.0},\"line_color\":{\"value\":\"black\"},\"line_dash\":[4,4],\"line_width\":{\"value\":2},\"plot\":null,\"render_mode\":\"css\",\"right_units\":\"screen\",\"top_units\":\"screen\"},\"id\":\"47f8861f-8a30-4b7a-827c-28eb72703b36\",\"type\":\"BoxAnnotation\"},{\"attributes\":{},\"id\":\"c93861d0-6e41-4c27-aab8-3670d675f388\",\"type\":\"BasicTickFormatter\"},{\"attributes\":{},\"id\":\"56f44302-a2b8-402c-b577-115f6ac383e1\",\"type\":\"BasicTickFormatter\"},{\"attributes\":{\"callback\":null,\"end\":23.920610000000003,\"start\":3.30929},\"id\":\"2b257f07-c0f6-4801-8727-cc6abfb149e0\",\"type\":\"Range1d\"}],\"root_ids\":[\"e61889e8-ab63-4034-a6d5-55e1c48ab36e\"]},\"title\":\"Bokeh Application\",\"version\":\"0.12.1\"}};\n",
       "            var render_items = [{\"docid\":\"192bb3da-4f97-4d4c-8f71-982d7637df13\",\"elementid\":\"4d1a50e4-3bbf-4a8e-b4f0-c545f2b5fffa\",\"modelid\":\"e61889e8-ab63-4034-a6d5-55e1c48ab36e\",\"notebook_comms_target\":\"87c7ccfc-4013-41df-8772-04a35dd47c4d\"}];\n",
       "            \n",
       "            Bokeh.embed.embed_items(docs_json, render_items);\n",
       "        });\n",
       "      },\n",
       "      function(Bokeh) {\n",
       "      }\n",
       "    ];\n",
       "  \n",
       "    function run_inline_js() {\n",
       "      for (var i = 0; i < inline_js.length; i++) {\n",
       "        inline_js[i](window.Bokeh);\n",
       "      }\n",
       "    }\n",
       "  \n",
       "    if (window._bokeh_is_loading === 0) {\n",
       "      console.log(\"Bokeh: BokehJS loaded, going straight to plotting\");\n",
       "      run_inline_js();\n",
       "    } else {\n",
       "      load_libs(js_urls, function() {\n",
       "        console.log(\"Bokeh: BokehJS plotting callback run at\", now());\n",
       "        run_inline_js();\n",
       "      });\n",
       "    }\n",
       "  }(this));\n",
       "</script>"
      ]
     },
     "metadata": {},
     "output_type": "display_data"
    },
    {
     "data": {
      "text/html": [
       "<p><code>&lt;Bokeh Notebook handle for <strong>In[7]</strong>&gt;</code></p>"
      ],
      "text/plain": [
       "<bokeh.io._CommsHandle at 0x7fa28997a358>"
      ]
     },
     "execution_count": 7,
     "metadata": {},
     "output_type": "execute_result"
    }
   ],
   "source": [
    "fig = bc.Scatter(df, 'population', 'profit')\n",
    "show(fig)"
   ]
  },
  {
   "cell_type": "code",
   "execution_count": 8,
   "metadata": {
    "collapsed": false
   },
   "outputs": [],
   "source": [
    "# seaborn\n",
    "import seaborn as sns\n",
    "sns.set(context=\"notebook\", style=\"darkgrid\", palette=\"dark\")"
   ]
  },
  {
   "cell_type": "code",
   "execution_count": 9,
   "metadata": {
    "collapsed": false
   },
   "outputs": [
    {
     "data": {
      "text/plain": [
       "<seaborn.axisgrid.FacetGrid at 0x7fa28997a5f8>"
      ]
     },
     "execution_count": 9,
     "metadata": {},
     "output_type": "execute_result"
    },
    {
     "data": {
      "image/png": "[encoded data removed]",
      "text/plain": [
       "<matplotlib.figure.Figure at 0x7fa28997a550>"
      ]
     },
     "metadata": {},
     "output_type": "display_data"
    }
   ],
   "source": [
    "sns.lmplot('population', 'profit', df, size=10)"
   ]
  },
  {
   "cell_type": "code",
   "execution_count": null,
   "metadata": {
    "collapsed": true
   },
   "outputs": [],
   "source": []
  }
 ],
 "metadata": {
  "anaconda-cloud": {},
  "kernelspec": {
   "display_name": "Python [conda env:tf]",
   "language": "python",
   "name": "conda-env-tf-py"
  },
  "language_info": {
   "codemirror_mode": {
    "name": "ipython",
    "version": 3
   },
   "file_extension": ".py",
   "mimetype": "text/x-python",
   "name": "python",
   "nbconvert_exporter": "python",
   "pygments_lexer": "ipython3",
   "version": "3.5.2"
  }
 },
 "nbformat": 4,
 "nbformat_minor": 0
}

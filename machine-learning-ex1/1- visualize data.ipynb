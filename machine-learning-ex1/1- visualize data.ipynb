{
 "cells": [
  {
   "cell_type": "code",
   "execution_count": 1,
   "metadata": {
    "collapsed": true
   },
   "outputs": [],
   "source": [
    "import pandas as pd\n",
    "%matplotlib inline"
   ]
  },
  {
   "cell_type": "code",
   "execution_count": 2,
   "metadata": {
    "collapsed": true
   },
   "outputs": [],
   "source": [
    "df = pd.read_csv('ex1data1.txt', names=['population', 'profit'])"
   ]
  },
  {
   "cell_type": "code",
   "execution_count": 3,
   "metadata": {
    "collapsed": false
   },
   "outputs": [
    {
     "data": {
      "text/html": [
       "<div>\n",
       "<table border=\"1\" class=\"dataframe\">\n",
       "  <thead>\n",
       "    <tr style=\"text-align: right;\">\n",
       "      <th></th>\n",
       "      <th>population</th>\n",
       "      <th>profit</th>\n",
       "    </tr>\n",
       "  </thead>\n",
       "  <tbody>\n",
       "    <tr>\n",
       "      <th>0</th>\n",
       "      <td>6.1101</td>\n",
       "      <td>17.5920</td>\n",
       "    </tr>\n",
       "    <tr>\n",
       "      <th>1</th>\n",
       "      <td>5.5277</td>\n",
       "      <td>9.1302</td>\n",
       "    </tr>\n",
       "    <tr>\n",
       "      <th>2</th>\n",
       "      <td>8.5186</td>\n",
       "      <td>13.6620</td>\n",
       "    </tr>\n",
       "    <tr>\n",
       "      <th>3</th>\n",
       "      <td>7.0032</td>\n",
       "      <td>11.8540</td>\n",
       "    </tr>\n",
       "    <tr>\n",
       "      <th>4</th>\n",
       "      <td>5.8598</td>\n",
       "      <td>6.8233</td>\n",
       "    </tr>\n",
       "  </tbody>\n",
       "</table>\n",
       "</div>"
      ],
      "text/plain": [
       "   population   profit\n",
       "0      6.1101  17.5920\n",
       "1      5.5277   9.1302\n",
       "2      8.5186  13.6620\n",
       "3      7.0032  11.8540\n",
       "4      5.8598   6.8233"
      ]
     },
     "execution_count": 3,
     "metadata": {},
     "output_type": "execute_result"
    }
   ],
   "source": [
    "df.head()"
   ]
  },
  {
   "cell_type": "code",
   "execution_count": 4,
   "metadata": {
    "collapsed": false
   },
   "outputs": [
    {
     "name": "stdout",
     "output_type": "stream",
     "text": [
      "<class 'pandas.core.frame.DataFrame'>\n",
      "RangeIndex: 97 entries, 0 to 96\n",
      "Data columns (total 2 columns):\n",
      "population    97 non-null float64\n",
      "profit        97 non-null float64\n",
      "dtypes: float64(2)\n",
      "memory usage: 1.6 KB\n"
     ]
    }
   ],
   "source": [
    "df.info()"
   ]
  },
  {
   "cell_type": "markdown",
   "metadata": {},
   "source": [
    "***\n",
    "# take a look at raw data"
   ]
  },
  {
   "cell_type": "code",
   "execution_count": 5,
   "metadata": {
    "collapsed": false
   },
   "outputs": [
    {
     "data": {
      "text/plain": [
       "<matplotlib.axes._subplots.AxesSubplot at 0x7fb5153ef748>"
      ]
     },
     "execution_count": 5,
     "metadata": {},
     "output_type": "execute_result"
    },
    {
     "data": {
      "image/png": "[encoded data removed]",
      "text/plain": [
       "<matplotlib.figure.Figure at 0x7fb515689f28>"
      ]
     },
     "metadata": {},
     "output_type": "display_data"
    }
   ],
   "source": [
    "# pandas built-in\n",
    "df.plot(x='population', y='profit', kind='scatter', figsize=(10,10))"
   ]
  },
  {
   "cell_type": "code",
   "execution_count": 6,
   "metadata": {
    "collapsed": false
   },
   "outputs": [
    {
     "data": {
      "text/html": [
       "\n",
       "    <div class=\"bk-root\">\n",
       "        <a href=\"http://bokeh.pydata.org\" target=\"_blank\" class=\"bk-logo bk-logo-small bk-logo-notebook\"></a>\n",
       "        <span id=\"83c0ef1f-02b4-4ce6-a13d-ad8e58c4bfdf\">Loading BokehJS ...</span>\n",
       "    </div>"
      ]
     },
     "metadata": {},
     "output_type": "display_data"
    },
    {
     "data": {
      "application/javascript": [
       "\n",
       "(function(global) {\n",
       "  function now() {\n",
       "    return new Date();\n",
       "  }\n",
       "\n",
       "  var force = \"1\";\n",
       "\n",
       "  if (typeof (window._bokeh_onload_callbacks) === \"undefined\" || force !== \"\") {\n",
       "    window._bokeh_onload_callbacks = [];\n",
       "    window._bokeh_is_loading = undefined;\n",
       "  }\n",
       "\n",
       "  function run_callbacks() {\n",
       "    window._bokeh_onload_callbacks.forEach(function(callback) { callback() });\n",
       "    delete window._bokeh_onload_callbacks\n",
       "    console.info(\"Bokeh: all callbacks have finished\");\n",
       "  }\n",
       "\n",
       "  function load_libs(js_urls, callback) {\n",
       "    window._bokeh_onload_callbacks.push(callback);\n",
       "    if (window._bokeh_is_loading > 0) {\n",
       "      console.log(\"Bokeh: BokehJS is being loaded, scheduling callback at\", now());\n",
       "      return null;\n",
       "    }\n",
       "    if (js_urls == null || js_urls.length === 0) {\n",
       "      run_callbacks();\n",
       "      return null;\n",
       "    }\n",
       "    console.log(\"Bokeh: BokehJS not loaded, scheduling load and callback at\", now());\n",
       "    window._bokeh_is_loading = js_urls.length;\n",
       "    for (var i = 0; i < js_urls.length; i++) {\n",
       "      var url = js_urls[i];\n",
       "      var s = document.createElement('script');\n",
       "      s.src = url;\n",
       "      s.async = false;\n",
       "      s.onreadystatechange = s.onload = function() {\n",
       "        window._bokeh_is_loading--;\n",
       "        if (window._bokeh_is_loading === 0) {\n",
       "          console.log(\"Bokeh: all BokehJS libraries loaded\");\n",
       "          run_callbacks()\n",
       "        }\n",
       "      };\n",
       "      s.onerror = function() {\n",
       "        console.warn(\"failed to load library \" + url);\n",
       "      };\n",
       "      console.log(\"Bokeh: injecting script tag for BokehJS library: \", url);\n",
       "      document.getElementsByTagName(\"head\")[0].appendChild(s);\n",
       "    }\n",
       "  };\n",
       "\n",
       "  var js_urls = ['https://cdn.pydata.org/bokeh/release/bokeh-0.12.1.min.js', 'https://cdn.pydata.org/bokeh/release/bokeh-widgets-0.12.1.min.js', 'https://cdn.pydata.org/bokeh/release/bokeh-compiler-0.12.1.min.js'];\n",
       "\n",
       "  var inline_js = [\n",
       "    function(Bokeh) {\n",
       "      Bokeh.set_log_level(\"info\");\n",
       "    },\n",
       "    \n",
       "    function(Bokeh) {\n",
       "      \n",
       "      Bokeh.$(\"#83c0ef1f-02b4-4ce6-a13d-ad8e58c4bfdf\").text(\"BokehJS successfully loaded\");\n",
       "      var kernel = Jupyter.notebook.kernel\n",
       "      if (kernel.execute !== undefined) {\n",
       "          kernel.execute(\"import bokeh.io; bokeh.io._nb_loaded = True\");\n",
       "      }\n",
       "    },\n",
       "    function(Bokeh) {\n",
       "      console.log(\"Bokeh: injecting CSS: https://cdn.pydata.org/bokeh/release/bokeh-0.12.1.min.css\");\n",
       "      Bokeh.embed.inject_css(\"https://cdn.pydata.org/bokeh/release/bokeh-0.12.1.min.css\");\n",
       "      console.log(\"Bokeh: injecting CSS: https://cdn.pydata.org/bokeh/release/bokeh-widgets-0.12.1.min.css\");\n",
       "      Bokeh.embed.inject_css(\"https://cdn.pydata.org/bokeh/release/bokeh-widgets-0.12.1.min.css\");\n",
       "    }\n",
       "  ];\n",
       "\n",
       "  function run_inline_js() {\n",
       "    for (var i = 0; i < inline_js.length; i++) {\n",
       "      inline_js[i](window.Bokeh);\n",
       "    }\n",
       "  }\n",
       "\n",
       "  if (window._bokeh_is_loading === 0) {\n",
       "    console.log(\"Bokeh: BokehJS loaded, going straight to plotting\");\n",
       "    run_inline_js();\n",
       "  } else {\n",
       "    load_libs(js_urls, function() {\n",
       "      console.log(\"Bokeh: BokehJS plotting callback run at\", now());\n",
       "      run_inline_js();\n",
       "    });\n",
       "  }\n",
       "}(this));"
      ]
     },
     "metadata": {},
     "output_type": "display_data"
    }
   ],
   "source": [
    "# bokeh\n",
    "import bokeh.charts as bc\n",
    "from bokeh.plotting import show\n",
    "from bokeh.io import output_notebook # need this for inline bokeh\n",
    "\n",
    "output_notebook()"
   ]
  },
  {
   "cell_type": "code",
   "execution_count": 7,
   "metadata": {
    "collapsed": false
   },
   "outputs": [
    {
     "data": {
      "text/html": [
       "\n",
       "\n",
       "    <div class=\"bk-root\">\n",
       "        <div class=\"plotdiv\" id=\"a9c7fd5e-68aa-4107-a41b-4a0c635bb6f8\"></div>\n",
       "    </div>\n",
       "<script type=\"text/javascript\">\n",
       "  \n",
       "  (function(global) {\n",
       "    function now() {\n",
       "      return new Date();\n",
       "    }\n",
       "  \n",
       "    var force = \"\";\n",
       "  \n",
       "    if (typeof (window._bokeh_onload_callbacks) === \"undefined\" || force !== \"\") {\n",
       "      window._bokeh_onload_callbacks = [];\n",
       "      window._bokeh_is_loading = undefined;\n",
       "    }\n",
       "  \n",
       "    function run_callbacks() {\n",
       "      window._bokeh_onload_callbacks.forEach(function(callback) { callback() });\n",
       "      delete window._bokeh_onload_callbacks\n",
       "      console.info(\"Bokeh: all callbacks have finished\");\n",
       "    }\n",
       "  \n",
       "    function load_libs(js_urls, callback) {\n",
       "      window._bokeh_onload_callbacks.push(callback);\n",
       "      if (window._bokeh_is_loading > 0) {\n",
       "        console.log(\"Bokeh: BokehJS is being loaded, scheduling callback at\", now());\n",
       "        return null;\n",
       "      }\n",
       "      if (js_urls == null || js_urls.length === 0) {\n",
       "        run_callbacks();\n",
       "        return null;\n",
       "      }\n",
       "      console.log(\"Bokeh: BokehJS not loaded, scheduling load and callback at\", now());\n",
       "      window._bokeh_is_loading = js_urls.length;\n",
       "      for (var i = 0; i < js_urls.length; i++) {\n",
       "        var url = js_urls[i];\n",
       "        var s = document.createElement('script');\n",
       "        s.src = url;\n",
       "        s.async = false;\n",
       "        s.onreadystatechange = s.onload = function() {\n",
       "          window._bokeh_is_loading--;\n",
       "          if (window._bokeh_is_loading === 0) {\n",
       "            console.log(\"Bokeh: all BokehJS libraries loaded\");\n",
       "            run_callbacks()\n",
       "          }\n",
       "        };\n",
       "        s.onerror = function() {\n",
       "          console.warn(\"failed to load library \" + url);\n",
       "        };\n",
       "        console.log(\"Bokeh: injecting script tag for BokehJS library: \", url);\n",
       "        document.getElementsByTagName(\"head\")[0].appendChild(s);\n",
       "      }\n",
       "    };var element = document.getElementById(\"a9c7fd5e-68aa-4107-a41b-4a0c635bb6f8\");\n",
       "    if (element == null) {\n",
       "      console.log(\"Bokeh: ERROR: autoload.js configured with elementid 'a9c7fd5e-68aa-4107-a41b-4a0c635bb6f8' but no matching script tag was found. \")\n",
       "      return false;\n",
       "    }\n",
       "  \n",
       "    var js_urls = [];\n",
       "  \n",
       "    var inline_js = [\n",
       "      function(Bokeh) {\n",
       "        Bokeh.$(function() {\n",
       "            var docs_json = {\"722509d6-8aa8-42ab-93a3-f7df5385d524\":{\"roots\":{\"references\":[{\"attributes\":{\"callback\":null,\"end\":26.82977,\"start\":-5.3634699999999995},\"id\":\"fab41770-7204-488c-a11e-aa3f92d21c5e\",\"type\":\"Range1d\"},{\"attributes\":{\"location\":\"top_left\",\"plot\":{\"id\":\"57d773a3-9634-411b-b29b-7f1bd1a04dbc\",\"subtype\":\"Chart\",\"type\":\"Plot\"}},\"id\":\"86c16d79-e76b-4d2a-bfce-942d876ba37a\",\"type\":\"Legend\"},{\"attributes\":{\"callback\":null,\"end\":23.920610000000003,\"start\":3.30929},\"id\":\"eb191951-cbd1-426b-bb1e-16da167fdd51\",\"type\":\"Range1d\"},{\"attributes\":{\"plot\":{\"id\":\"57d773a3-9634-411b-b29b-7f1bd1a04dbc\",\"subtype\":\"Chart\",\"type\":\"Plot\"}},\"id\":\"3ec7c611-6cfb-4e56-abaf-d8f9d8add435\",\"type\":\"SaveTool\"},{\"attributes\":{},\"id\":\"6fe9933c-58fd-4c42-b625-d4626c704196\",\"type\":\"BasicTickFormatter\"},{\"attributes\":{\"dimension\":1,\"plot\":{\"id\":\"57d773a3-9634-411b-b29b-7f1bd1a04dbc\",\"subtype\":\"Chart\",\"type\":\"Plot\"},\"ticker\":{\"id\":\"f0449a75-f6ab-4b8a-9ee4-bf8516ff618f\",\"type\":\"BasicTicker\"}},\"id\":\"d2b12e1a-38d3-4023-9fa4-0dd1b25d0ca0\",\"type\":\"Grid\"},{\"attributes\":{\"plot\":{\"id\":\"57d773a3-9634-411b-b29b-7f1bd1a04dbc\",\"subtype\":\"Chart\",\"type\":\"Plot\"}},\"id\":\"35370855-8368-4dd7-bbb6-fb9cef52af09\",\"type\":\"ResetTool\"},{\"attributes\":{\"plot\":{\"id\":\"57d773a3-9634-411b-b29b-7f1bd1a04dbc\",\"subtype\":\"Chart\",\"type\":\"Plot\"}},\"id\":\"9089ca64-c338-48a8-85cc-2699bc51f7ce\",\"type\":\"HelpTool\"},{\"attributes\":{\"fill_alpha\":{\"value\":0.7},\"fill_color\":{\"value\":\"#f22c40\"},\"line_color\":{\"value\":\"#f22c40\"},\"size\":{\"units\":\"screen\",\"value\":8},\"x\":{\"field\":\"x_values\"},\"y\":{\"field\":\"y_values\"}},\"id\":\"6b5e1e2a-b400-487d-817c-7c8bf2626bee\",\"type\":\"Circle\"},{\"attributes\":{\"axis_label\":\"population\",\"formatter\":{\"id\":\"6fe9933c-58fd-4c42-b625-d4626c704196\",\"type\":\"BasicTickFormatter\"},\"plot\":{\"id\":\"57d773a3-9634-411b-b29b-7f1bd1a04dbc\",\"subtype\":\"Chart\",\"type\":\"Plot\"},\"ticker\":{\"id\":\"a44bbe87-bf6d-4f97-b7e2-2fed9e22138c\",\"type\":\"BasicTicker\"}},\"id\":\"c866890c-0138-43df-8c72-a58e1c49f194\",\"type\":\"LinearAxis\"},{\"attributes\":{\"plot\":{\"id\":\"57d773a3-9634-411b-b29b-7f1bd1a04dbc\",\"subtype\":\"Chart\",\"type\":\"Plot\"},\"ticker\":{\"id\":\"a44bbe87-bf6d-4f97-b7e2-2fed9e22138c\",\"type\":\"BasicTicker\"}},\"id\":\"6b278204-15f6-4508-94e7-b18b920dafb1\",\"type\":\"Grid\"},{\"attributes\":{},\"id\":\"73dcd26f-21ca-42fd-b8a6-d995caa525de\",\"type\":\"ToolEvents\"},{\"attributes\":{\"below\":[{\"id\":\"c866890c-0138-43df-8c72-a58e1c49f194\",\"type\":\"LinearAxis\"}],\"left\":[{\"id\":\"ba255c37-97fb-49ff-ac96-1f274da616ba\",\"type\":\"LinearAxis\"}],\"renderers\":[{\"id\":\"cb1e0c3b-f5b1-49bc-9ee8-3a874744cfbf\",\"type\":\"BoxAnnotation\"},{\"id\":\"c12285a5-aef8-433d-b184-6e4baa28cabd\",\"type\":\"GlyphRenderer\"},{\"id\":\"86c16d79-e76b-4d2a-bfce-942d876ba37a\",\"type\":\"Legend\"},{\"id\":\"c866890c-0138-43df-8c72-a58e1c49f194\",\"type\":\"LinearAxis\"},{\"id\":\"ba255c37-97fb-49ff-ac96-1f274da616ba\",\"type\":\"LinearAxis\"},{\"id\":\"6b278204-15f6-4508-94e7-b18b920dafb1\",\"type\":\"Grid\"},{\"id\":\"d2b12e1a-38d3-4023-9fa4-0dd1b25d0ca0\",\"type\":\"Grid\"}],\"title\":{\"id\":\"3420cbb6-55a5-421e-a7c6-db94021aa270\",\"type\":\"Title\"},\"tool_events\":{\"id\":\"73dcd26f-21ca-42fd-b8a6-d995caa525de\",\"type\":\"ToolEvents\"},\"toolbar\":{\"id\":\"a1d838f9-9ae8-447f-859f-1b196f5d5fc8\",\"type\":\"Toolbar\"},\"x_mapper_type\":\"auto\",\"x_range\":{\"id\":\"eb191951-cbd1-426b-bb1e-16da167fdd51\",\"type\":\"Range1d\"},\"y_mapper_type\":\"auto\",\"y_range\":{\"id\":\"fab41770-7204-488c-a11e-aa3f92d21c5e\",\"type\":\"Range1d\"}},\"id\":\"57d773a3-9634-411b-b29b-7f1bd1a04dbc\",\"subtype\":\"Chart\",\"type\":\"Plot\"},{\"attributes\":{\"plot\":{\"id\":\"57d773a3-9634-411b-b29b-7f1bd1a04dbc\",\"subtype\":\"Chart\",\"type\":\"Plot\"}},\"id\":\"b6b8a52e-3d55-42e8-80c7-b0dc3f1d8269\",\"type\":\"PanTool\"},{\"attributes\":{\"callback\":null,\"column_names\":[\"x_values\",\"y_values\"],\"data\":{\"chart_index\":[null,null,null,null,null,null,null,null,null,null,null,null,null,null,null,null,null,null,null,null,null,null,null,null,null,null,null,null,null,null,null,null,null,null,null,null,null,null,null,null,null,null,null,null,null,null,null,null,null,null,null,null,null,null,null,null,null,null,null,null,null,null,null,null,null,null,null,null,null,null,null,null,null,null,null,null,null,null,null,null,null,null,null,null,null,null,null,null,null,null,null,null,null,null,null,null,null],\"x_values\":[6.1101,5.5277,8.5186,7.0032,5.8598,8.3829,7.4764,8.5781,6.4862,5.0546,5.7107,14.164000000000001,5.734,8.4084,5.6407,5.3794,6.3654,5.1301,6.4296,7.0708,6.1891,20.27,5.4901,6.3261,5.5649,18.945,12.828,10.957,13.175999999999998,22.203000000000003,5.2524,6.5894,9.2482,5.8918,8.2111,7.9334,8.0959,5.6063,12.835999999999999,6.3534,5.4069,6.8825,11.708,5.7737,7.8247,7.0931,5.0702,5.8014,11.7,5.5416,7.5402,5.3077,7.4239,7.6031,6.3328,6.3589,6.2742,5.6397,9.3102,9.4536,8.8254,5.1793,21.279,14.908,18.959,7.2182,8.2951,10.236,5.4994,20.340999999999998,10.136000000000001,7.3345,6.0062,7.2259,5.0269,6.5479,7.5386,5.0365,10.274000000000001,5.1077,5.7292,5.1884,6.3557,9.7687,6.5159,8.5172,9.1802,6.002000000000001,5.5204,5.0594,5.7077,7.6366,5.8707,5.3054,8.2934,13.394,5.4369],\"y_values\":[17.592,9.1302,13.662,11.854000000000001,6.8233,11.886,4.3483,12.0,6.5987,3.8166,3.2522,15.505,3.1551,7.2258,0.71618,3.5129,5.3048,0.56077,3.6518,5.3893,3.1386,21.767,4.263,5.1875,3.0825,22.638,13.501,7.0467,14.692,24.147,-1.22,5.9966,12.134,1.8495,6.5426,4.5623,4.1164,3.3928,10.117,5.4974,0.55657,3.9115,5.3854,2.4406,6.7318,1.0463,5.1337,1.844,8.0043,1.0179,6.7504,1.8396,4.2885,4.9981,1.4233,-1.4211,2.4756,4.6042,3.9624,5.4141,5.1694,-0.74279,17.929000000000002,12.054,17.054000000000002,4.8852,5.7442,7.7754,1.0173,20.991999999999997,6.6799,4.0259,1.2784,3.3411,-2.6807,0.29678000000000004,3.8845,5.7014,6.7526,2.0576,0.47953,0.20421,0.67861,7.5435,5.3436,4.2415,6.7981,0.92695,0.152,2.8214,1.8451,4.2959,7.2029,1.9869,0.14454,9.0551,0.61705]}},\"id\":\"0928a485-4282-4733-99f0-ceaeacd64afd\",\"type\":\"ColumnDataSource\"},{\"attributes\":{\"data_source\":{\"id\":\"0928a485-4282-4733-99f0-ceaeacd64afd\",\"type\":\"ColumnDataSource\"},\"glyph\":{\"id\":\"6b5e1e2a-b400-487d-817c-7c8bf2626bee\",\"type\":\"Circle\"},\"hover_glyph\":null,\"nonselection_glyph\":null,\"selection_glyph\":null},\"id\":\"c12285a5-aef8-433d-b184-6e4baa28cabd\",\"type\":\"GlyphRenderer\"},{\"attributes\":{\"active_drag\":\"auto\",\"active_scroll\":\"auto\",\"active_tap\":\"auto\",\"tools\":[{\"id\":\"b6b8a52e-3d55-42e8-80c7-b0dc3f1d8269\",\"type\":\"PanTool\"},{\"id\":\"7d3db6ef-2605-4a3f-b9d4-1d54626c29ef\",\"type\":\"WheelZoomTool\"},{\"id\":\"5ca17a2a-db77-4fb3-9e86-be19e6fa82b0\",\"type\":\"BoxZoomTool\"},{\"id\":\"3ec7c611-6cfb-4e56-abaf-d8f9d8add435\",\"type\":\"SaveTool\"},{\"id\":\"35370855-8368-4dd7-bbb6-fb9cef52af09\",\"type\":\"ResetTool\"},{\"id\":\"9089ca64-c338-48a8-85cc-2699bc51f7ce\",\"type\":\"HelpTool\"}]},\"id\":\"a1d838f9-9ae8-447f-859f-1b196f5d5fc8\",\"type\":\"Toolbar\"},{\"attributes\":{\"plot\":null,\"text\":null},\"id\":\"3420cbb6-55a5-421e-a7c6-db94021aa270\",\"type\":\"Title\"},{\"attributes\":{\"plot\":{\"id\":\"57d773a3-9634-411b-b29b-7f1bd1a04dbc\",\"subtype\":\"Chart\",\"type\":\"Plot\"}},\"id\":\"7d3db6ef-2605-4a3f-b9d4-1d54626c29ef\",\"type\":\"WheelZoomTool\"},{\"attributes\":{\"overlay\":{\"id\":\"cb1e0c3b-f5b1-49bc-9ee8-3a874744cfbf\",\"type\":\"BoxAnnotation\"},\"plot\":{\"id\":\"57d773a3-9634-411b-b29b-7f1bd1a04dbc\",\"subtype\":\"Chart\",\"type\":\"Plot\"}},\"id\":\"5ca17a2a-db77-4fb3-9e86-be19e6fa82b0\",\"type\":\"BoxZoomTool\"},{\"attributes\":{},\"id\":\"a44bbe87-bf6d-4f97-b7e2-2fed9e22138c\",\"type\":\"BasicTicker\"},{\"attributes\":{\"bottom_units\":\"screen\",\"fill_alpha\":{\"value\":0.5},\"fill_color\":{\"value\":\"lightgrey\"},\"left_units\":\"screen\",\"level\":\"overlay\",\"line_alpha\":{\"value\":1.0},\"line_color\":{\"value\":\"black\"},\"line_dash\":[4,4],\"line_width\":{\"value\":2},\"plot\":null,\"render_mode\":\"css\",\"right_units\":\"screen\",\"top_units\":\"screen\"},\"id\":\"cb1e0c3b-f5b1-49bc-9ee8-3a874744cfbf\",\"type\":\"BoxAnnotation\"},{\"attributes\":{\"axis_label\":\"profit\",\"formatter\":{\"id\":\"6c061979-0582-475a-a0ca-1905aa8d4e43\",\"type\":\"BasicTickFormatter\"},\"plot\":{\"id\":\"57d773a3-9634-411b-b29b-7f1bd1a04dbc\",\"subtype\":\"Chart\",\"type\":\"Plot\"},\"ticker\":{\"id\":\"f0449a75-f6ab-4b8a-9ee4-bf8516ff618f\",\"type\":\"BasicTicker\"}},\"id\":\"ba255c37-97fb-49ff-ac96-1f274da616ba\",\"type\":\"LinearAxis\"},{\"attributes\":{},\"id\":\"f0449a75-f6ab-4b8a-9ee4-bf8516ff618f\",\"type\":\"BasicTicker\"},{\"attributes\":{},\"id\":\"6c061979-0582-475a-a0ca-1905aa8d4e43\",\"type\":\"BasicTickFormatter\"}],\"root_ids\":[\"57d773a3-9634-411b-b29b-7f1bd1a04dbc\"]},\"title\":\"Bokeh Application\",\"version\":\"0.12.1\"}};\n",
       "            var render_items = [{\"docid\":\"722509d6-8aa8-42ab-93a3-f7df5385d524\",\"elementid\":\"a9c7fd5e-68aa-4107-a41b-4a0c635bb6f8\",\"modelid\":\"57d773a3-9634-411b-b29b-7f1bd1a04dbc\",\"notebook_comms_target\":\"3f01f6bd-146a-4a3c-8be5-3ff243d65bae\"}];\n",
       "            \n",
       "            Bokeh.embed.embed_items(docs_json, render_items);\n",
       "        });\n",
       "      },\n",
       "      function(Bokeh) {\n",
       "      }\n",
       "    ];\n",
       "  \n",
       "    function run_inline_js() {\n",
       "      for (var i = 0; i < inline_js.length; i++) {\n",
       "        inline_js[i](window.Bokeh);\n",
       "      }\n",
       "    }\n",
       "  \n",
       "    if (window._bokeh_is_loading === 0) {\n",
       "      console.log(\"Bokeh: BokehJS loaded, going straight to plotting\");\n",
       "      run_inline_js();\n",
       "    } else {\n",
       "      load_libs(js_urls, function() {\n",
       "        console.log(\"Bokeh: BokehJS plotting callback run at\", now());\n",
       "        run_inline_js();\n",
       "      });\n",
       "    }\n",
       "  }(this));\n",
       "</script>"
      ]
     },
     "metadata": {},
     "output_type": "display_data"
    },
    {
     "data": {
      "text/html": [
       "<p><code>&lt;Bokeh Notebook handle for <strong>In[7]</strong>&gt;</code></p>"
      ],
      "text/plain": [
       "<bokeh.io._CommsHandle at 0x7fb511df6f98>"
      ]
     },
     "execution_count": 7,
     "metadata": {},
     "output_type": "execute_result"
    }
   ],
   "source": [
    "fig = bc.Scatter(df, 'population', 'profit')\n",
    "show(fig)"
   ]
  },
  {
   "cell_type": "code",
   "execution_count": 8,
   "metadata": {
    "collapsed": false
   },
   "outputs": [],
   "source": [
    "# seaborn\n",
    "import seaborn as sns\n",
    "sns.set(context=\"notebook\", style=\"darkgrid\", palette=\"dark\")"
   ]
  },
  {
   "cell_type": "code",
   "execution_count": 9,
   "metadata": {
    "collapsed": false
   },
   "outputs": [
    {
     "data": {
      "text/plain": [
       "<seaborn.axisgrid.FacetGrid at 0x7fb511dfd160>"
      ]
     },
     "execution_count": 9,
     "metadata": {},
     "output_type": "execute_result"
    },
    {
     "data": {
      "image/png": "[encoded data removed]",
      "text/plain": [
       "<matplotlib.figure.Figure at 0x7fb511dfd0b8>"
      ]
     },
     "metadata": {},
     "output_type": "display_data"
    }
   ],
   "source": [
    "sns.lmplot('population', 'profit', df, size=10)"
   ]
  },
  {
   "cell_type": "code",
   "execution_count": null,
   "metadata": {
    "collapsed": true
   },
   "outputs": [],
   "source": []
  }
 ],
 "metadata": {
  "anaconda-cloud": {},
  "kernelspec": {
   "display_name": "Python [conda env:tf]",
   "language": "python",
   "name": "conda-env-tf-py"
  },
  "language_info": {
   "codemirror_mode": {
    "name": "ipython",
    "version": 3
   },
   "file_extension": ".py",
   "mimetype": "text/x-python",
   "name": "python",
   "nbconvert_exporter": "python",
   "pygments_lexer": "ipython3",
   "version": "3.5.2"
  }
 },
 "nbformat": 4,
 "nbformat_minor": 0
}

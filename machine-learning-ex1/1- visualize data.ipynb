{
 "cells": [
  {
   "cell_type": "code",
   "execution_count": 2,
   "metadata": {
    "collapsed": true
   },
   "outputs": [],
   "source": [
    "import pandas as pd\n",
    "%matplotlib inline"
   ]
  },
  {
   "cell_type": "code",
   "execution_count": 3,
   "metadata": {
    "collapsed": true
   },
   "outputs": [],
   "source": [
    "df = pd.read_csv('ex1data1.txt', names=['population', 'profit'])"
   ]
  },
  {
   "cell_type": "code",
   "execution_count": 4,
   "metadata": {
    "collapsed": false
   },
   "outputs": [
    {
     "data": {
      "text/html": [
       "<div>\n",
       "<table border=\"1\" class=\"dataframe\">\n",
       "  <thead>\n",
       "    <tr style=\"text-align: right;\">\n",
       "      <th></th>\n",
       "      <th>population</th>\n",
       "      <th>profit</th>\n",
       "    </tr>\n",
       "  </thead>\n",
       "  <tbody>\n",
       "    <tr>\n",
       "      <th>0</th>\n",
       "      <td>6.1101</td>\n",
       "      <td>17.5920</td>\n",
       "    </tr>\n",
       "    <tr>\n",
       "      <th>1</th>\n",
       "      <td>5.5277</td>\n",
       "      <td>9.1302</td>\n",
       "    </tr>\n",
       "    <tr>\n",
       "      <th>2</th>\n",
       "      <td>8.5186</td>\n",
       "      <td>13.6620</td>\n",
       "    </tr>\n",
       "    <tr>\n",
       "      <th>3</th>\n",
       "      <td>7.0032</td>\n",
       "      <td>11.8540</td>\n",
       "    </tr>\n",
       "    <tr>\n",
       "      <th>4</th>\n",
       "      <td>5.8598</td>\n",
       "      <td>6.8233</td>\n",
       "    </tr>\n",
       "  </tbody>\n",
       "</table>\n",
       "</div>"
      ],
      "text/plain": [
       "   population   profit\n",
       "0      6.1101  17.5920\n",
       "1      5.5277   9.1302\n",
       "2      8.5186  13.6620\n",
       "3      7.0032  11.8540\n",
       "4      5.8598   6.8233"
      ]
     },
     "execution_count": 4,
     "metadata": {},
     "output_type": "execute_result"
    }
   ],
   "source": [
    "df.head()"
   ]
  },
  {
   "cell_type": "code",
   "execution_count": 5,
   "metadata": {
    "collapsed": false
   },
   "outputs": [
    {
     "name": "stdout",
     "output_type": "stream",
     "text": [
      "<class 'pandas.core.frame.DataFrame'>\n",
      "RangeIndex: 97 entries, 0 to 96\n",
      "Data columns (total 2 columns):\n",
      "population    97 non-null float64\n",
      "profit        97 non-null float64\n",
      "dtypes: float64(2)\n",
      "memory usage: 1.6 KB\n"
     ]
    }
   ],
   "source": [
    "df.info()"
   ]
  },
  {
   "cell_type": "markdown",
   "metadata": {},
   "source": [
    "***\n",
    "# take a look at raw data"
   ]
  },
  {
   "cell_type": "code",
   "execution_count": 6,
   "metadata": {
    "collapsed": false
   },
   "outputs": [
    {
     "data": {
      "text/plain": [
       "<matplotlib.axes._subplots.AxesSubplot at 0x115235d68>"
      ]
     },
     "execution_count": 6,
     "metadata": {},
     "output_type": "execute_result"
    },
    {
     "data": {
      "image/png": "[encoded data removed]",
      "text/plain": [
       "<matplotlib.figure.Figure at 0x115235400>"
      ]
     },
     "metadata": {},
     "output_type": "display_data"
    }
   ],
   "source": [
    "# pandas built-in\n",
    "df.plot(x='population', y='profit', kind='scatter', figsize=(10,10))"
   ]
  },
  {
   "cell_type": "code",
   "execution_count": 7,
   "metadata": {
    "collapsed": false
   },
   "outputs": [
    {
     "data": {
      "text/html": [
       "\n",
       "    <div class=\"bk-root\">\n",
       "        <a href=\"http://bokeh.pydata.org\" target=\"_blank\" class=\"bk-logo bk-logo-small bk-logo-notebook\"></a>\n",
       "        <span id=\"7d39ef0b-59d5-479c-b954-329e831ec7dd\">Loading BokehJS ...</span>\n",
       "    </div>"
      ]
     },
     "metadata": {},
     "output_type": "display_data"
    },
    {
     "data": {
      "application/javascript": [
       "\n",
       "(function(global) {\n",
       "  function now() {\n",
       "    return new Date();\n",
       "  }\n",
       "\n",
       "  var force = \"1\";\n",
       "\n",
       "  if (typeof (window._bokeh_onload_callbacks) === \"undefined\" || force !== \"\") {\n",
       "    window._bokeh_onload_callbacks = [];\n",
       "    window._bokeh_is_loading = undefined;\n",
       "  }\n",
       "\n",
       "  function run_callbacks() {\n",
       "    window._bokeh_onload_callbacks.forEach(function(callback) { callback() });\n",
       "    delete window._bokeh_onload_callbacks\n",
       "    console.info(\"Bokeh: all callbacks have finished\");\n",
       "  }\n",
       "\n",
       "  function load_libs(js_urls, callback) {\n",
       "    window._bokeh_onload_callbacks.push(callback);\n",
       "    if (window._bokeh_is_loading > 0) {\n",
       "      console.log(\"Bokeh: BokehJS is being loaded, scheduling callback at\", now());\n",
       "      return null;\n",
       "    }\n",
       "    if (js_urls == null || js_urls.length === 0) {\n",
       "      run_callbacks();\n",
       "      return null;\n",
       "    }\n",
       "    console.log(\"Bokeh: BokehJS not loaded, scheduling load and callback at\", now());\n",
       "    window._bokeh_is_loading = js_urls.length;\n",
       "    for (var i = 0; i < js_urls.length; i++) {\n",
       "      var url = js_urls[i];\n",
       "      var s = document.createElement('script');\n",
       "      s.src = url;\n",
       "      s.async = false;\n",
       "      s.onreadystatechange = s.onload = function() {\n",
       "        window._bokeh_is_loading--;\n",
       "        if (window._bokeh_is_loading === 0) {\n",
       "          console.log(\"Bokeh: all BokehJS libraries loaded\");\n",
       "          run_callbacks()\n",
       "        }\n",
       "      };\n",
       "      s.onerror = function() {\n",
       "        console.warn(\"failed to load library \" + url);\n",
       "      };\n",
       "      console.log(\"Bokeh: injecting script tag for BokehJS library: \", url);\n",
       "      document.getElementsByTagName(\"head\")[0].appendChild(s);\n",
       "    }\n",
       "  };\n",
       "\n",
       "  var js_urls = ['https://cdn.pydata.org/bokeh/release/bokeh-0.12.1.min.js', 'https://cdn.pydata.org/bokeh/release/bokeh-widgets-0.12.1.min.js', 'https://cdn.pydata.org/bokeh/release/bokeh-compiler-0.12.1.min.js'];\n",
       "\n",
       "  var inline_js = [\n",
       "    function(Bokeh) {\n",
       "      Bokeh.set_log_level(\"info\");\n",
       "    },\n",
       "    \n",
       "    function(Bokeh) {\n",
       "      \n",
       "      Bokeh.$(\"#7d39ef0b-59d5-479c-b954-329e831ec7dd\").text(\"BokehJS successfully loaded\");\n",
       "      var kernel = Jupyter.notebook.kernel\n",
       "      if (kernel.execute !== undefined) {\n",
       "          kernel.execute(\"import bokeh.io; bokeh.io._nb_loaded = True\");\n",
       "      }\n",
       "    },\n",
       "    function(Bokeh) {\n",
       "      console.log(\"Bokeh: injecting CSS: https://cdn.pydata.org/bokeh/release/bokeh-0.12.1.min.css\");\n",
       "      Bokeh.embed.inject_css(\"https://cdn.pydata.org/bokeh/release/bokeh-0.12.1.min.css\");\n",
       "      console.log(\"Bokeh: injecting CSS: https://cdn.pydata.org/bokeh/release/bokeh-widgets-0.12.1.min.css\");\n",
       "      Bokeh.embed.inject_css(\"https://cdn.pydata.org/bokeh/release/bokeh-widgets-0.12.1.min.css\");\n",
       "    }\n",
       "  ];\n",
       "\n",
       "  function run_inline_js() {\n",
       "    for (var i = 0; i < inline_js.length; i++) {\n",
       "      inline_js[i](window.Bokeh);\n",
       "    }\n",
       "  }\n",
       "\n",
       "  if (window._bokeh_is_loading === 0) {\n",
       "    console.log(\"Bokeh: BokehJS loaded, going straight to plotting\");\n",
       "    run_inline_js();\n",
       "  } else {\n",
       "    load_libs(js_urls, function() {\n",
       "      console.log(\"Bokeh: BokehJS plotting callback run at\", now());\n",
       "      run_inline_js();\n",
       "    });\n",
       "  }\n",
       "}(this));"
      ]
     },
     "metadata": {},
     "output_type": "display_data"
    }
   ],
   "source": [
    "# bokeh\n",
    "import bokeh.charts as bc\n",
    "from bokeh.plotting import show\n",
    "from bokeh.io import output_notebook # need this for inline bokeh\n",
    "\n",
    "output_notebook()"
   ]
  },
  {
   "cell_type": "code",
   "execution_count": 11,
   "metadata": {
    "collapsed": false
   },
   "outputs": [
    {
     "data": {
      "text/html": [
       "\n",
       "\n",
       "    <div class=\"bk-root\">\n",
       "        <div class=\"plotdiv\" id=\"57a449ac-1cb4-41ec-bf89-73eb7f217081\"></div>\n",
       "    </div>\n",
       "<script type=\"text/javascript\">\n",
       "  \n",
       "  (function(global) {\n",
       "    function now() {\n",
       "      return new Date();\n",
       "    }\n",
       "  \n",
       "    var force = \"\";\n",
       "  \n",
       "    if (typeof (window._bokeh_onload_callbacks) === \"undefined\" || force !== \"\") {\n",
       "      window._bokeh_onload_callbacks = [];\n",
       "      window._bokeh_is_loading = undefined;\n",
       "    }\n",
       "  \n",
       "    function run_callbacks() {\n",
       "      window._bokeh_onload_callbacks.forEach(function(callback) { callback() });\n",
       "      delete window._bokeh_onload_callbacks\n",
       "      console.info(\"Bokeh: all callbacks have finished\");\n",
       "    }\n",
       "  \n",
       "    function load_libs(js_urls, callback) {\n",
       "      window._bokeh_onload_callbacks.push(callback);\n",
       "      if (window._bokeh_is_loading > 0) {\n",
       "        console.log(\"Bokeh: BokehJS is being loaded, scheduling callback at\", now());\n",
       "        return null;\n",
       "      }\n",
       "      if (js_urls == null || js_urls.length === 0) {\n",
       "        run_callbacks();\n",
       "        return null;\n",
       "      }\n",
       "      console.log(\"Bokeh: BokehJS not loaded, scheduling load and callback at\", now());\n",
       "      window._bokeh_is_loading = js_urls.length;\n",
       "      for (var i = 0; i < js_urls.length; i++) {\n",
       "        var url = js_urls[i];\n",
       "        var s = document.createElement('script');\n",
       "        s.src = url;\n",
       "        s.async = false;\n",
       "        s.onreadystatechange = s.onload = function() {\n",
       "          window._bokeh_is_loading--;\n",
       "          if (window._bokeh_is_loading === 0) {\n",
       "            console.log(\"Bokeh: all BokehJS libraries loaded\");\n",
       "            run_callbacks()\n",
       "          }\n",
       "        };\n",
       "        s.onerror = function() {\n",
       "          console.warn(\"failed to load library \" + url);\n",
       "        };\n",
       "        console.log(\"Bokeh: injecting script tag for BokehJS library: \", url);\n",
       "        document.getElementsByTagName(\"head\")[0].appendChild(s);\n",
       "      }\n",
       "    };var element = document.getElementById(\"57a449ac-1cb4-41ec-bf89-73eb7f217081\");\n",
       "    if (element == null) {\n",
       "      console.log(\"Bokeh: ERROR: autoload.js configured with elementid '57a449ac-1cb4-41ec-bf89-73eb7f217081' but no matching script tag was found. \")\n",
       "      return false;\n",
       "    }\n",
       "  \n",
       "    var js_urls = [];\n",
       "  \n",
       "    var inline_js = [\n",
       "      function(Bokeh) {\n",
       "        Bokeh.$(function() {\n",
       "            var docs_json = {\"209ee045-bfe8-45d9-9e92-a2121ae65395\":{\"roots\":{\"references\":[{\"attributes\":{\"plot\":{\"id\":\"616c21dd-694a-45c3-a53f-82ef844d6b45\",\"subtype\":\"Chart\",\"type\":\"Plot\"}},\"id\":\"0337ad7a-fc95-4a86-a751-17a7677a0411\",\"type\":\"SaveTool\"},{\"attributes\":{\"callback\":null,\"end\":26.82977,\"start\":-5.3634699999999995},\"id\":\"a3b5484c-b834-4b3a-a0f9-a28b812546d3\",\"type\":\"Range1d\"},{\"attributes\":{},\"id\":\"3d62f1bb-11df-458d-bebe-937f3e7370fb\",\"type\":\"BasicTickFormatter\"},{\"attributes\":{\"callback\":null,\"column_names\":[\"y_values\",\"x_values\"],\"data\":{\"chart_index\":[null,null,null,null,null,null,null,null,null,null,null,null,null,null,null,null,null,null,null,null,null,null,null,null,null,null,null,null,null,null,null,null,null,null,null,null,null,null,null,null,null,null,null,null,null,null,null,null,null,null,null,null,null,null,null,null,null,null,null,null,null,null,null,null,null,null,null,null,null,null,null,null,null,null,null,null,null,null,null,null,null,null,null,null,null,null,null,null,null,null,null,null,null,null,null,null,null],\"x_values\":[6.1101,5.5277,8.5186,7.0032,5.8598,8.3829,7.4764,8.5781,6.4862,5.0546,5.7107,14.164000000000001,5.734,8.4084,5.6407,5.3794,6.3654,5.1301,6.4296,7.0708,6.1891,20.27,5.4901,6.3261,5.5649,18.945,12.828,10.957,13.175999999999998,22.203000000000003,5.2524,6.5894,9.2482,5.8918,8.2111,7.9334,8.0959,5.6063,12.835999999999999,6.3534,5.4069,6.8825,11.708,5.7737,7.8247,7.0931,5.0702,5.8014,11.7,5.5416,7.5402,5.3077,7.4239,7.6031,6.3328,6.3589,6.2742,5.6397,9.3102,9.4536,8.8254,5.1793,21.279,14.908,18.959,7.2182,8.2951,10.236,5.4994,20.340999999999998,10.136000000000001,7.3345,6.0062,7.2259,5.0269,6.5479,7.5386,5.0365,10.274000000000001,5.1077,5.7292,5.1884,6.3557,9.7687,6.5159,8.5172,9.1802,6.002000000000001,5.5204,5.0594,5.7077,7.6366,5.8707,5.3054,8.2934,13.394,5.4369],\"y_values\":[17.592,9.1302,13.662,11.854000000000001,6.8233,11.886,4.3483,12.0,6.5987,3.8166,3.2522,15.505,3.1551,7.2258,0.71618,3.5129,5.3048,0.56077,3.6518,5.3893,3.1386,21.767,4.263,5.1875,3.0825,22.638,13.501,7.0467,14.692,24.147,-1.22,5.9966,12.134,1.8495,6.5426,4.5623,4.1164,3.3928,10.117,5.4974,0.55657,3.9115,5.3854,2.4406,6.7318,1.0463,5.1337,1.844,8.0043,1.0179,6.7504,1.8396,4.2885,4.9981,1.4233,-1.4211,2.4756,4.6042,3.9624,5.4141,5.1694,-0.74279,17.929000000000002,12.054,17.054000000000002,4.8852,5.7442,7.7754,1.0173,20.991999999999997,6.6799,4.0259,1.2784,3.3411,-2.6807,0.29678000000000004,3.8845,5.7014,6.7526,2.0576,0.47953,0.20421,0.67861,7.5435,5.3436,4.2415,6.7981,0.92695,0.152,2.8214,1.8451,4.2959,7.2029,1.9869,0.14454,9.0551,0.61705]}},\"id\":\"07521843-49a5-47f3-bce5-5602ab43a597\",\"type\":\"ColumnDataSource\"},{\"attributes\":{\"callback\":null,\"end\":23.920610000000003,\"start\":3.30929},\"id\":\"4ec074fc-c03f-421d-ad66-9bed48a7fc66\",\"type\":\"Range1d\"},{\"attributes\":{\"overlay\":{\"id\":\"6fce0127-1baf-4ed0-9cd6-badefc900aff\",\"type\":\"BoxAnnotation\"},\"plot\":{\"id\":\"616c21dd-694a-45c3-a53f-82ef844d6b45\",\"subtype\":\"Chart\",\"type\":\"Plot\"}},\"id\":\"012b8503-5bcd-4f2e-a912-03f32e48b488\",\"type\":\"BoxZoomTool\"},{\"attributes\":{\"fill_alpha\":{\"value\":0.7},\"fill_color\":{\"value\":\"#f22c40\"},\"line_color\":{\"value\":\"#f22c40\"},\"size\":{\"units\":\"screen\",\"value\":8},\"x\":{\"field\":\"x_values\"},\"y\":{\"field\":\"y_values\"}},\"id\":\"9fbfa89c-8a7e-4aee-8468-329ef36b831f\",\"type\":\"Circle\"},{\"attributes\":{},\"id\":\"c22c6f41-ba02-4320-a1ac-243a5ae84c1e\",\"type\":\"BasicTicker\"},{\"attributes\":{},\"id\":\"60138b44-35f1-4356-910b-cea28dddc18e\",\"type\":\"ToolEvents\"},{\"attributes\":{},\"id\":\"3d9204c4-a950-491f-85a3-8f023a4f230f\",\"type\":\"BasicTickFormatter\"},{\"attributes\":{\"plot\":{\"id\":\"616c21dd-694a-45c3-a53f-82ef844d6b45\",\"subtype\":\"Chart\",\"type\":\"Plot\"}},\"id\":\"3f0c224d-5b36-46ec-955e-18f4e6f19a85\",\"type\":\"HelpTool\"},{\"attributes\":{\"axis_label\":\"population\",\"formatter\":{\"id\":\"3d9204c4-a950-491f-85a3-8f023a4f230f\",\"type\":\"BasicTickFormatter\"},\"plot\":{\"id\":\"616c21dd-694a-45c3-a53f-82ef844d6b45\",\"subtype\":\"Chart\",\"type\":\"Plot\"},\"ticker\":{\"id\":\"c22c6f41-ba02-4320-a1ac-243a5ae84c1e\",\"type\":\"BasicTicker\"}},\"id\":\"7bb9224d-b900-4776-b25b-0fa23c3ee247\",\"type\":\"LinearAxis\"},{\"attributes\":{\"plot\":null,\"text\":null},\"id\":\"0222db7c-f2c8-436a-92c1-22aa7536488f\",\"type\":\"Title\"},{\"attributes\":{\"active_drag\":\"auto\",\"active_scroll\":\"auto\",\"active_tap\":\"auto\",\"tools\":[{\"id\":\"adafa0b4-40ab-473d-86d9-133604f0857b\",\"type\":\"PanTool\"},{\"id\":\"96de92f4-685b-4147-9677-149743e46682\",\"type\":\"WheelZoomTool\"},{\"id\":\"012b8503-5bcd-4f2e-a912-03f32e48b488\",\"type\":\"BoxZoomTool\"},{\"id\":\"0337ad7a-fc95-4a86-a751-17a7677a0411\",\"type\":\"SaveTool\"},{\"id\":\"6f173f67-eca1-48b1-a84e-ac9859458ad4\",\"type\":\"ResetTool\"},{\"id\":\"3f0c224d-5b36-46ec-955e-18f4e6f19a85\",\"type\":\"HelpTool\"}]},\"id\":\"d7d04a8e-9566-4b42-b9f2-3ce1de9e5f44\",\"type\":\"Toolbar\"},{\"attributes\":{\"data_source\":{\"id\":\"07521843-49a5-47f3-bce5-5602ab43a597\",\"type\":\"ColumnDataSource\"},\"glyph\":{\"id\":\"9fbfa89c-8a7e-4aee-8468-329ef36b831f\",\"type\":\"Circle\"},\"hover_glyph\":null,\"nonselection_glyph\":null,\"selection_glyph\":null},\"id\":\"059d4283-511d-41e5-8fcb-2b7c7afa7618\",\"type\":\"GlyphRenderer\"},{\"attributes\":{\"plot\":{\"id\":\"616c21dd-694a-45c3-a53f-82ef844d6b45\",\"subtype\":\"Chart\",\"type\":\"Plot\"},\"ticker\":{\"id\":\"c22c6f41-ba02-4320-a1ac-243a5ae84c1e\",\"type\":\"BasicTicker\"}},\"id\":\"47b798f9-23c6-4b3c-bdbc-fd31219f8241\",\"type\":\"Grid\"},{\"attributes\":{\"below\":[{\"id\":\"7bb9224d-b900-4776-b25b-0fa23c3ee247\",\"type\":\"LinearAxis\"}],\"left\":[{\"id\":\"e75ca799-3137-42c9-b71e-2db50da834bc\",\"type\":\"LinearAxis\"}],\"renderers\":[{\"id\":\"6fce0127-1baf-4ed0-9cd6-badefc900aff\",\"type\":\"BoxAnnotation\"},{\"id\":\"059d4283-511d-41e5-8fcb-2b7c7afa7618\",\"type\":\"GlyphRenderer\"},{\"id\":\"5d16dcce-44a1-4591-aa07-4d209cb2d64d\",\"type\":\"Legend\"},{\"id\":\"7bb9224d-b900-4776-b25b-0fa23c3ee247\",\"type\":\"LinearAxis\"},{\"id\":\"e75ca799-3137-42c9-b71e-2db50da834bc\",\"type\":\"LinearAxis\"},{\"id\":\"47b798f9-23c6-4b3c-bdbc-fd31219f8241\",\"type\":\"Grid\"},{\"id\":\"22962e0b-6308-4972-a544-4efdb75f75c1\",\"type\":\"Grid\"}],\"title\":{\"id\":\"0222db7c-f2c8-436a-92c1-22aa7536488f\",\"type\":\"Title\"},\"tool_events\":{\"id\":\"60138b44-35f1-4356-910b-cea28dddc18e\",\"type\":\"ToolEvents\"},\"toolbar\":{\"id\":\"d7d04a8e-9566-4b42-b9f2-3ce1de9e5f44\",\"type\":\"Toolbar\"},\"x_mapper_type\":\"auto\",\"x_range\":{\"id\":\"4ec074fc-c03f-421d-ad66-9bed48a7fc66\",\"type\":\"Range1d\"},\"y_mapper_type\":\"auto\",\"y_range\":{\"id\":\"a3b5484c-b834-4b3a-a0f9-a28b812546d3\",\"type\":\"Range1d\"}},\"id\":\"616c21dd-694a-45c3-a53f-82ef844d6b45\",\"subtype\":\"Chart\",\"type\":\"Plot\"},{\"attributes\":{\"dimension\":1,\"plot\":{\"id\":\"616c21dd-694a-45c3-a53f-82ef844d6b45\",\"subtype\":\"Chart\",\"type\":\"Plot\"},\"ticker\":{\"id\":\"7fc9527c-b537-46ad-9f05-9c9c0ed0d2c4\",\"type\":\"BasicTicker\"}},\"id\":\"22962e0b-6308-4972-a544-4efdb75f75c1\",\"type\":\"Grid\"},{\"attributes\":{\"plot\":{\"id\":\"616c21dd-694a-45c3-a53f-82ef844d6b45\",\"subtype\":\"Chart\",\"type\":\"Plot\"}},\"id\":\"adafa0b4-40ab-473d-86d9-133604f0857b\",\"type\":\"PanTool\"},{\"attributes\":{\"axis_label\":\"profit\",\"formatter\":{\"id\":\"3d62f1bb-11df-458d-bebe-937f3e7370fb\",\"type\":\"BasicTickFormatter\"},\"plot\":{\"id\":\"616c21dd-694a-45c3-a53f-82ef844d6b45\",\"subtype\":\"Chart\",\"type\":\"Plot\"},\"ticker\":{\"id\":\"7fc9527c-b537-46ad-9f05-9c9c0ed0d2c4\",\"type\":\"BasicTicker\"}},\"id\":\"e75ca799-3137-42c9-b71e-2db50da834bc\",\"type\":\"LinearAxis\"},{\"attributes\":{\"plot\":{\"id\":\"616c21dd-694a-45c3-a53f-82ef844d6b45\",\"subtype\":\"Chart\",\"type\":\"Plot\"}},\"id\":\"6f173f67-eca1-48b1-a84e-ac9859458ad4\",\"type\":\"ResetTool\"},{\"attributes\":{\"plot\":{\"id\":\"616c21dd-694a-45c3-a53f-82ef844d6b45\",\"subtype\":\"Chart\",\"type\":\"Plot\"}},\"id\":\"96de92f4-685b-4147-9677-149743e46682\",\"type\":\"WheelZoomTool\"},{\"attributes\":{},\"id\":\"7fc9527c-b537-46ad-9f05-9c9c0ed0d2c4\",\"type\":\"BasicTicker\"},{\"attributes\":{\"bottom_units\":\"screen\",\"fill_alpha\":{\"value\":0.5},\"fill_color\":{\"value\":\"lightgrey\"},\"left_units\":\"screen\",\"level\":\"overlay\",\"line_alpha\":{\"value\":1.0},\"line_color\":{\"value\":\"black\"},\"line_dash\":[4,4],\"line_width\":{\"value\":2},\"plot\":null,\"render_mode\":\"css\",\"right_units\":\"screen\",\"top_units\":\"screen\"},\"id\":\"6fce0127-1baf-4ed0-9cd6-badefc900aff\",\"type\":\"BoxAnnotation\"},{\"attributes\":{\"location\":\"top_left\",\"plot\":{\"id\":\"616c21dd-694a-45c3-a53f-82ef844d6b45\",\"subtype\":\"Chart\",\"type\":\"Plot\"}},\"id\":\"5d16dcce-44a1-4591-aa07-4d209cb2d64d\",\"type\":\"Legend\"}],\"root_ids\":[\"616c21dd-694a-45c3-a53f-82ef844d6b45\"]},\"title\":\"Bokeh Application\",\"version\":\"0.12.1\"}};\n",
       "            var render_items = [{\"docid\":\"209ee045-bfe8-45d9-9e92-a2121ae65395\",\"elementid\":\"57a449ac-1cb4-41ec-bf89-73eb7f217081\",\"modelid\":\"616c21dd-694a-45c3-a53f-82ef844d6b45\",\"notebook_comms_target\":\"42c76fe1-0dc9-48e2-9334-75ba08a82298\"}];\n",
       "            \n",
       "            Bokeh.embed.embed_items(docs_json, render_items);\n",
       "        });\n",
       "      },\n",
       "      function(Bokeh) {\n",
       "      }\n",
       "    ];\n",
       "  \n",
       "    function run_inline_js() {\n",
       "      for (var i = 0; i < inline_js.length; i++) {\n",
       "        inline_js[i](window.Bokeh);\n",
       "      }\n",
       "    }\n",
       "  \n",
       "    if (window._bokeh_is_loading === 0) {\n",
       "      console.log(\"Bokeh: BokehJS loaded, going straight to plotting\");\n",
       "      run_inline_js();\n",
       "    } else {\n",
       "      load_libs(js_urls, function() {\n",
       "        console.log(\"Bokeh: BokehJS plotting callback run at\", now());\n",
       "        run_inline_js();\n",
       "      });\n",
       "    }\n",
       "  }(this));\n",
       "</script>"
      ]
     },
     "metadata": {},
     "output_type": "display_data"
    },
    {
     "data": {
      "text/html": [
       "<p><code>&lt;Bokeh Notebook handle for <strong>In[25]</strong>&gt;</code></p>"
      ],
      "text/plain": [
       "<bokeh.io._CommsHandle at 0x1186dbf28>"
      ]
     },
     "execution_count": 11,
     "metadata": {},
     "output_type": "execute_result"
    }
   ],
   "source": [
    "fig = bc.Scatter(df, 'population', 'profit')\n",
    "show(fig)"
   ]
  },
  {
   "cell_type": "code",
   "execution_count": 9,
   "metadata": {
    "collapsed": false
   },
   "outputs": [],
   "source": [
    "# seaborn\n",
    "import seaborn as sns\n",
    "sns.set(context=\"notebook\", style=\"darkgrid\", palette=\"dark\")"
   ]
  },
  {
   "cell_type": "code",
   "execution_count": 10,
   "metadata": {
    "collapsed": false
   },
   "outputs": [
    {
     "data": {
      "text/plain": [
       "<seaborn.axisgrid.FacetGrid at 0x115f00ba8>"
      ]
     },
     "execution_count": 10,
     "metadata": {},
     "output_type": "execute_result"
    },
    {
     "data": {
      "image/png": "[encoded data removed]",
      "text/plain": [
       "<matplotlib.figure.Figure at 0x115f00d68>"
      ]
     },
     "metadata": {},
     "output_type": "display_data"
    }
   ],
   "source": [
    "sns.lmplot('population', 'profit', df, size=10)"
   ]
  },
  {
   "cell_type": "code",
   "execution_count": null,
   "metadata": {
    "collapsed": true
   },
   "outputs": [],
   "source": []
  }
 ],
 "metadata": {
  "anaconda-cloud": {},
  "kernelspec": {
   "display_name": "Python [conda env:tf]",
   "language": "python",
   "name": "conda-env-tf-py"
  },
  "language_info": {
   "codemirror_mode": {
    "name": "ipython",
    "version": 3
   },
   "file_extension": ".py",
   "mimetype": "text/x-python",
   "name": "python",
   "nbconvert_exporter": "python",
   "pygments_lexer": "ipython3",
   "version": "3.5.2"
  }
 },
 "nbformat": 4,
 "nbformat_minor": 0
}

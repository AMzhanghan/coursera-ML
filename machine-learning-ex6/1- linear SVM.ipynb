{
 "cells": [
  {
   "cell_type": "code",
   "execution_count": 83,
   "metadata": {
    "collapsed": false
   },
   "outputs": [],
   "source": [
    "%matplotlib inline\n",
    "\n",
    "import numpy as np\n",
    "import pandas as pd\n",
    "import sklearn.svm\n",
    "import seaborn as sns\n",
    "import scipy.io as sio"
   ]
  },
  {
   "cell_type": "code",
   "execution_count": 84,
   "metadata": {
    "collapsed": false
   },
   "outputs": [
    {
     "name": "stdout",
     "output_type": "stream",
     "text": [
      "dict_keys(['y', '__version__', '__header__', 'X', '__globals__'])\n"
     ]
    },
    {
     "data": {
      "text/html": [
       "<div>\n",
       "<table border=\"1\" class=\"dataframe\">\n",
       "  <thead>\n",
       "    <tr style=\"text-align: right;\">\n",
       "      <th></th>\n",
       "      <th>X1</th>\n",
       "      <th>X2</th>\n",
       "      <th>y</th>\n",
       "    </tr>\n",
       "  </thead>\n",
       "  <tbody>\n",
       "    <tr>\n",
       "      <th>0</th>\n",
       "      <td>1.9643</td>\n",
       "      <td>4.5957</td>\n",
       "      <td>1</td>\n",
       "    </tr>\n",
       "    <tr>\n",
       "      <th>1</th>\n",
       "      <td>2.2753</td>\n",
       "      <td>3.8589</td>\n",
       "      <td>1</td>\n",
       "    </tr>\n",
       "    <tr>\n",
       "      <th>2</th>\n",
       "      <td>2.9781</td>\n",
       "      <td>4.5651</td>\n",
       "      <td>1</td>\n",
       "    </tr>\n",
       "    <tr>\n",
       "      <th>3</th>\n",
       "      <td>2.9320</td>\n",
       "      <td>3.5519</td>\n",
       "      <td>1</td>\n",
       "    </tr>\n",
       "    <tr>\n",
       "      <th>4</th>\n",
       "      <td>3.5772</td>\n",
       "      <td>2.8560</td>\n",
       "      <td>1</td>\n",
       "    </tr>\n",
       "  </tbody>\n",
       "</table>\n",
       "</div>"
      ],
      "text/plain": [
       "       X1      X2  y\n",
       "0  1.9643  4.5957  1\n",
       "1  2.2753  3.8589  1\n",
       "2  2.9781  4.5651  1\n",
       "3  2.9320  3.5519  1\n",
       "4  3.5772  2.8560  1"
      ]
     },
     "execution_count": 84,
     "metadata": {},
     "output_type": "execute_result"
    }
   ],
   "source": [
    "mat = sio.loadmat('./data/ex6data1.mat')\n",
    "print(mat.keys())\n",
    "data = pd.DataFrame(mat.get('X'), columns=['X1', 'X2'])\n",
    "data['y'] = mat.get('y')\n",
    "\n",
    "data.head()"
   ]
  },
  {
   "cell_type": "markdown",
   "metadata": {},
   "source": [
    "# visualize data\n",
    "pay attention to the edge case at the left hand side"
   ]
  },
  {
   "cell_type": "code",
   "execution_count": 85,
   "metadata": {
    "collapsed": false
   },
   "outputs": [
    {
     "data": {
      "text/plain": [
       "<matplotlib.text.Text at 0x11a8d91d0>"
      ]
     },
     "execution_count": 85,
     "metadata": {},
     "output_type": "execute_result"
    },
    {
     "data": {
      "image/png": "[encoded data removed]",
      "text/plain": [
       "<matplotlib.figure.Figure at 0x11798bc50>"
      ]
     },
     "metadata": {},
     "output_type": "display_data"
    }
   ],
   "source": [
    "fig, ax = plt.subplots(figsize=(8,6))\n",
    "ax.scatter(data['X1'], data['X2'], s=50, c=data['y'], cmap='Reds')\n",
    "ax.set_title('Raw data')\n",
    "ax.set_xlabel('X1')\n",
    "ax.set_ylabel('X2')"
   ]
  },
  {
   "cell_type": "markdown",
   "metadata": {},
   "source": [
    "# try $C=1$\n",
    "http://scikit-learn.org/stable/modules/generated/sklearn.svm.LinearSVC.html#sklearn.svm.LinearSVC"
   ]
  },
  {
   "cell_type": "code",
   "execution_count": 86,
   "metadata": {
    "collapsed": false
   },
   "outputs": [
    {
     "data": {
      "text/plain": [
       "0.98039215686274506"
      ]
     },
     "execution_count": 86,
     "metadata": {},
     "output_type": "execute_result"
    }
   ],
   "source": [
    "svc1 = sklearn.svm.LinearSVC(C=1, loss='hinge')\n",
    "svc1.fit(data[['X1', 'X2']], data['y'])\n",
    "svc1.score(data[['X1', 'X2']], data['y'])"
   ]
  },
  {
   "cell_type": "code",
   "execution_count": 87,
   "metadata": {
    "collapsed": true
   },
   "outputs": [],
   "source": [
    "data['SVM1 Confidence'] = svc1.decision_function(data[['X1', 'X2']])"
   ]
  },
  {
   "cell_type": "code",
   "execution_count": 88,
   "metadata": {
    "collapsed": false
   },
   "outputs": [
    {
     "data": {
      "text/plain": [
       "<matplotlib.text.Text at 0x11aaae748>"
      ]
     },
     "execution_count": 88,
     "metadata": {},
     "output_type": "execute_result"
    },
    {
     "data": {
      "image/png": "[encoded data removed]",
      "text/plain": [
       "<matplotlib.figure.Figure at 0x11aa7cb38>"
      ]
     },
     "metadata": {},
     "output_type": "display_data"
    }
   ],
   "source": [
    "fig, ax = plt.subplots(figsize=(8,6))\n",
    "ax.scatter(data['X1'], data['X2'], s=50, c=data['SVM1 Confidence'], cmap='RdBu')\n",
    "ax.set_title('SVM (C=1) Decision Confidence')"
   ]
  },
  {
   "cell_type": "markdown",
   "metadata": {},
   "source": [
    "# try $C=100$\n",
    "with large C, you try to overfit the data, so the left hand side edge case now is categorized right"
   ]
  },
  {
   "cell_type": "code",
   "execution_count": 89,
   "metadata": {
    "collapsed": false
   },
   "outputs": [
    {
     "data": {
      "text/plain": [
       "1.0"
      ]
     },
     "execution_count": 89,
     "metadata": {},
     "output_type": "execute_result"
    }
   ],
   "source": [
    "svc100 = sklearn.svm.LinearSVC(C=100, loss='hinge')\n",
    "svc100.fit(data[['X1', 'X2']], data['y'])\n",
    "svc100.score(data[['X1', 'X2']], data['y'])"
   ]
  },
  {
   "cell_type": "code",
   "execution_count": 90,
   "metadata": {
    "collapsed": true
   },
   "outputs": [],
   "source": [
    "data['SVM100 Confidence'] = svc100.decision_function(data[['X1', 'X2']])"
   ]
  },
  {
   "cell_type": "code",
   "execution_count": 91,
   "metadata": {
    "collapsed": false
   },
   "outputs": [
    {
     "data": {
      "text/plain": [
       "<matplotlib.text.Text at 0x11ac8a278>"
      ]
     },
     "execution_count": 91,
     "metadata": {},
     "output_type": "execute_result"
    },
    {
     "data": {
      "image/png": "[encoded data removed]",
      "text/plain": [
       "<matplotlib.figure.Figure at 0x11aaaa3c8>"
      ]
     },
     "metadata": {},
     "output_type": "display_data"
    }
   ],
   "source": [
    "fig, ax = plt.subplots(figsize=(8,6))\n",
    "ax.scatter(data['X1'], data['X2'], s=50, c=data['SVM100 Confidence'], cmap='RdBu')\n",
    "ax.set_title('SVM (C=100) Decision Confidence')"
   ]
  },
  {
   "cell_type": "code",
   "execution_count": 92,
   "metadata": {
    "collapsed": false
   },
   "outputs": [
    {
     "data": {
      "text/html": [
       "<div>\n",
       "<table border=\"1\" class=\"dataframe\">\n",
       "  <thead>\n",
       "    <tr style=\"text-align: right;\">\n",
       "      <th></th>\n",
       "      <th>X1</th>\n",
       "      <th>X2</th>\n",
       "      <th>y</th>\n",
       "      <th>SVM1 Confidence</th>\n",
       "      <th>SVM100 Confidence</th>\n",
       "    </tr>\n",
       "  </thead>\n",
       "  <tbody>\n",
       "    <tr>\n",
       "      <th>0</th>\n",
       "      <td>1.964300</td>\n",
       "      <td>4.5957</td>\n",
       "      <td>1</td>\n",
       "      <td>0.804456</td>\n",
       "      <td>3.667373</td>\n",
       "    </tr>\n",
       "    <tr>\n",
       "      <th>1</th>\n",
       "      <td>2.275300</td>\n",
       "      <td>3.8589</td>\n",
       "      <td>1</td>\n",
       "      <td>0.386386</td>\n",
       "      <td>1.770079</td>\n",
       "    </tr>\n",
       "    <tr>\n",
       "      <th>2</th>\n",
       "      <td>2.978100</td>\n",
       "      <td>4.5651</td>\n",
       "      <td>1</td>\n",
       "      <td>1.379671</td>\n",
       "      <td>4.701322</td>\n",
       "    </tr>\n",
       "    <tr>\n",
       "      <th>3</th>\n",
       "      <td>2.932000</td>\n",
       "      <td>3.5519</td>\n",
       "      <td>1</td>\n",
       "      <td>0.524271</td>\n",
       "      <td>1.565568</td>\n",
       "    </tr>\n",
       "    <tr>\n",
       "      <th>4</th>\n",
       "      <td>3.577200</td>\n",
       "      <td>2.8560</td>\n",
       "      <td>1</td>\n",
       "      <td>0.337493</td>\n",
       "      <td>0.164337</td>\n",
       "    </tr>\n",
       "    <tr>\n",
       "      <th>5</th>\n",
       "      <td>4.015000</td>\n",
       "      <td>3.1937</td>\n",
       "      <td>1</td>\n",
       "      <td>0.872703</td>\n",
       "      <td>1.679132</td>\n",
       "    </tr>\n",
       "    <tr>\n",
       "      <th>6</th>\n",
       "      <td>3.381400</td>\n",
       "      <td>3.4291</td>\n",
       "      <td>1</td>\n",
       "      <td>0.689974</td>\n",
       "      <td>1.691352</td>\n",
       "    </tr>\n",
       "    <tr>\n",
       "      <th>7</th>\n",
       "      <td>3.911300</td>\n",
       "      <td>4.1761</td>\n",
       "      <td>1</td>\n",
       "      <td>1.614240</td>\n",
       "      <td>4.554579</td>\n",
       "    </tr>\n",
       "    <tr>\n",
       "      <th>8</th>\n",
       "      <td>2.782200</td>\n",
       "      <td>4.0431</td>\n",
       "      <td>1</td>\n",
       "      <td>0.837048</td>\n",
       "      <td>2.894394</td>\n",
       "    </tr>\n",
       "    <tr>\n",
       "      <th>9</th>\n",
       "      <td>2.551800</td>\n",
       "      <td>4.6162</td>\n",
       "      <td>1</td>\n",
       "      <td>1.169044</td>\n",
       "      <td>4.382942</td>\n",
       "    </tr>\n",
       "    <tr>\n",
       "      <th>10</th>\n",
       "      <td>3.369800</td>\n",
       "      <td>3.9101</td>\n",
       "      <td>1</td>\n",
       "      <td>1.076236</td>\n",
       "      <td>3.142772</td>\n",
       "    </tr>\n",
       "    <tr>\n",
       "      <th>11</th>\n",
       "      <td>3.104800</td>\n",
       "      <td>3.0709</td>\n",
       "      <td>1</td>\n",
       "      <td>0.233448</td>\n",
       "      <td>0.293364</td>\n",
       "    </tr>\n",
       "    <tr>\n",
       "      <th>12</th>\n",
       "      <td>1.918200</td>\n",
       "      <td>4.0534</td>\n",
       "      <td>1</td>\n",
       "      <td>0.333931</td>\n",
       "      <td>1.965188</td>\n",
       "    </tr>\n",
       "    <tr>\n",
       "      <th>13</th>\n",
       "      <td>2.263800</td>\n",
       "      <td>4.3706</td>\n",
       "      <td>1</td>\n",
       "      <td>0.797799</td>\n",
       "      <td>3.315070</td>\n",
       "    </tr>\n",
       "    <tr>\n",
       "      <th>14</th>\n",
       "      <td>2.655500</td>\n",
       "      <td>3.5008</td>\n",
       "      <td>1</td>\n",
       "      <td>0.318803</td>\n",
       "      <td>1.102601</td>\n",
       "    </tr>\n",
       "    <tr>\n",
       "      <th>15</th>\n",
       "      <td>3.185500</td>\n",
       "      <td>4.2888</td>\n",
       "      <td>1</td>\n",
       "      <td>1.276639</td>\n",
       "      <td>4.090757</td>\n",
       "    </tr>\n",
       "    <tr>\n",
       "      <th>16</th>\n",
       "      <td>3.657900</td>\n",
       "      <td>3.8692</td>\n",
       "      <td>1</td>\n",
       "      <td>1.213379</td>\n",
       "      <td>3.338558</td>\n",
       "    </tr>\n",
       "    <tr>\n",
       "      <th>17</th>\n",
       "      <td>3.911300</td>\n",
       "      <td>3.4291</td>\n",
       "      <td>1</td>\n",
       "      <td>1.003704</td>\n",
       "      <td>2.280475</td>\n",
       "    </tr>\n",
       "    <tr>\n",
       "      <th>18</th>\n",
       "      <td>3.600200</td>\n",
       "      <td>3.1221</td>\n",
       "      <td>1</td>\n",
       "      <td>0.568599</td>\n",
       "      <td>1.000000</td>\n",
       "    </tr>\n",
       "    <tr>\n",
       "      <th>19</th>\n",
       "      <td>3.035700</td>\n",
       "      <td>3.3165</td>\n",
       "      <td>1</td>\n",
       "      <td>0.393271</td>\n",
       "      <td>0.964225</td>\n",
       "    </tr>\n",
       "    <tr>\n",
       "      <th>20</th>\n",
       "      <td>1.584100</td>\n",
       "      <td>3.3575</td>\n",
       "      <td>0</td>\n",
       "      <td>-0.432646</td>\n",
       "      <td>-0.524792</td>\n",
       "    </tr>\n",
       "    <tr>\n",
       "      <th>21</th>\n",
       "      <td>2.010300</td>\n",
       "      <td>3.2039</td>\n",
       "      <td>0</td>\n",
       "      <td>-0.305852</td>\n",
       "      <td>-0.518566</td>\n",
       "    </tr>\n",
       "    <tr>\n",
       "      <th>22</th>\n",
       "      <td>1.952700</td>\n",
       "      <td>2.7843</td>\n",
       "      <td>0</td>\n",
       "      <td>-0.682901</td>\n",
       "      <td>-1.859999</td>\n",
       "    </tr>\n",
       "    <tr>\n",
       "      <th>23</th>\n",
       "      <td>2.275300</td>\n",
       "      <td>2.7127</td>\n",
       "      <td>0</td>\n",
       "      <td>-0.550424</td>\n",
       "      <td>-1.719318</td>\n",
       "    </tr>\n",
       "    <tr>\n",
       "      <th>24</th>\n",
       "      <td>2.309900</td>\n",
       "      <td>2.9584</td>\n",
       "      <td>0</td>\n",
       "      <td>-0.329124</td>\n",
       "      <td>-0.932862</td>\n",
       "    </tr>\n",
       "    <tr>\n",
       "      <th>25</th>\n",
       "      <td>2.828300</td>\n",
       "      <td>2.6309</td>\n",
       "      <td>0</td>\n",
       "      <td>-0.289874</td>\n",
       "      <td>-1.353538</td>\n",
       "    </tr>\n",
       "    <tr>\n",
       "      <th>26</th>\n",
       "      <td>3.047300</td>\n",
       "      <td>2.2931</td>\n",
       "      <td>0</td>\n",
       "      <td>-0.436304</td>\n",
       "      <td>-2.138432</td>\n",
       "    </tr>\n",
       "    <tr>\n",
       "      <th>27</th>\n",
       "      <td>2.482700</td>\n",
       "      <td>2.0373</td>\n",
       "      <td>0</td>\n",
       "      <td>-0.979648</td>\n",
       "      <td>-3.544870</td>\n",
       "    </tr>\n",
       "    <tr>\n",
       "      <th>28</th>\n",
       "      <td>2.505700</td>\n",
       "      <td>2.3853</td>\n",
       "      <td>0</td>\n",
       "      <td>-0.681605</td>\n",
       "      <td>-2.459877</td>\n",
       "    </tr>\n",
       "    <tr>\n",
       "      <th>29</th>\n",
       "      <td>1.872100</td>\n",
       "      <td>2.0577</td>\n",
       "      <td>0</td>\n",
       "      <td>-1.324484</td>\n",
       "      <td>-4.161608</td>\n",
       "    </tr>\n",
       "    <tr>\n",
       "      <th>30</th>\n",
       "      <td>2.010300</td>\n",
       "      <td>2.3546</td>\n",
       "      <td>0</td>\n",
       "      <td>-1.000000</td>\n",
       "      <td>-3.104105</td>\n",
       "    </tr>\n",
       "    <tr>\n",
       "      <th>31</th>\n",
       "      <td>1.226900</td>\n",
       "      <td>2.3239</td>\n",
       "      <td>0</td>\n",
       "      <td>-1.488907</td>\n",
       "      <td>-4.068520</td>\n",
       "    </tr>\n",
       "    <tr>\n",
       "      <th>32</th>\n",
       "      <td>1.895100</td>\n",
       "      <td>2.9174</td>\n",
       "      <td>0</td>\n",
       "      <td>-0.608218</td>\n",
       "      <td>-1.518838</td>\n",
       "    </tr>\n",
       "    <tr>\n",
       "      <th>33</th>\n",
       "      <td>1.561000</td>\n",
       "      <td>3.0709</td>\n",
       "      <td>0</td>\n",
       "      <td>-0.680565</td>\n",
       "      <td>-1.422975</td>\n",
       "    </tr>\n",
       "    <tr>\n",
       "      <th>34</th>\n",
       "      <td>1.549500</td>\n",
       "      <td>2.6923</td>\n",
       "      <td>0</td>\n",
       "      <td>-0.996811</td>\n",
       "      <td>-2.588339</td>\n",
       "    </tr>\n",
       "    <tr>\n",
       "      <th>35</th>\n",
       "      <td>1.687800</td>\n",
       "      <td>2.4057</td>\n",
       "      <td>0</td>\n",
       "      <td>-1.149173</td>\n",
       "      <td>-3.307083</td>\n",
       "    </tr>\n",
       "    <tr>\n",
       "      <th>36</th>\n",
       "      <td>1.491900</td>\n",
       "      <td>2.0271</td>\n",
       "      <td>0</td>\n",
       "      <td>-1.574593</td>\n",
       "      <td>-4.677456</td>\n",
       "    </tr>\n",
       "    <tr>\n",
       "      <th>37</th>\n",
       "      <td>0.962000</td>\n",
       "      <td>2.6820</td>\n",
       "      <td>0</td>\n",
       "      <td>-1.353061</td>\n",
       "      <td>-3.272856</td>\n",
       "    </tr>\n",
       "    <tr>\n",
       "      <th>38</th>\n",
       "      <td>1.169300</td>\n",
       "      <td>2.9276</td>\n",
       "      <td>0</td>\n",
       "      <td>-1.029595</td>\n",
       "      <td>-2.294703</td>\n",
       "    </tr>\n",
       "    <tr>\n",
       "      <th>39</th>\n",
       "      <td>0.812200</td>\n",
       "      <td>2.9992</td>\n",
       "      <td>0</td>\n",
       "      <td>-1.182497</td>\n",
       "      <td>-2.473741</td>\n",
       "    </tr>\n",
       "    <tr>\n",
       "      <th>40</th>\n",
       "      <td>0.973500</td>\n",
       "      <td>3.3881</td>\n",
       "      <td>0</td>\n",
       "      <td>-0.769144</td>\n",
       "      <td>-1.110478</td>\n",
       "    </tr>\n",
       "    <tr>\n",
       "      <th>41</th>\n",
       "      <td>1.250000</td>\n",
       "      <td>3.1937</td>\n",
       "      <td>0</td>\n",
       "      <td>-0.764328</td>\n",
       "      <td>-1.394891</td>\n",
       "    </tr>\n",
       "    <tr>\n",
       "      <th>42</th>\n",
       "      <td>1.319100</td>\n",
       "      <td>3.5109</td>\n",
       "      <td>0</td>\n",
       "      <td>-0.464163</td>\n",
       "      <td>-0.352411</td>\n",
       "    </tr>\n",
       "    <tr>\n",
       "      <th>43</th>\n",
       "      <td>2.229200</td>\n",
       "      <td>2.2010</td>\n",
       "      <td>0</td>\n",
       "      <td>-0.995939</td>\n",
       "      <td>-3.328347</td>\n",
       "    </tr>\n",
       "    <tr>\n",
       "      <th>44</th>\n",
       "      <td>2.448200</td>\n",
       "      <td>2.6411</td>\n",
       "      <td>0</td>\n",
       "      <td>-0.506578</td>\n",
       "      <td>-1.745067</td>\n",
       "    </tr>\n",
       "    <tr>\n",
       "      <th>45</th>\n",
       "      <td>2.793800</td>\n",
       "      <td>1.9656</td>\n",
       "      <td>0</td>\n",
       "      <td>-0.854062</td>\n",
       "      <td>-3.417278</td>\n",
       "    </tr>\n",
       "    <tr>\n",
       "      <th>46</th>\n",
       "      <td>2.091000</td>\n",
       "      <td>1.6177</td>\n",
       "      <td>0</td>\n",
       "      <td>-1.554503</td>\n",
       "      <td>-5.257742</td>\n",
       "    </tr>\n",
       "    <tr>\n",
       "      <th>47</th>\n",
       "      <td>2.540300</td>\n",
       "      <td>2.8867</td>\n",
       "      <td>0</td>\n",
       "      <td>-0.251316</td>\n",
       "      <td>-0.894989</td>\n",
       "    </tr>\n",
       "    <tr>\n",
       "      <th>48</th>\n",
       "      <td>0.904400</td>\n",
       "      <td>3.0198</td>\n",
       "      <td>0</td>\n",
       "      <td>-1.111073</td>\n",
       "      <td>-2.308523</td>\n",
       "    </tr>\n",
       "    <tr>\n",
       "      <th>49</th>\n",
       "      <td>0.766150</td>\n",
       "      <td>2.5899</td>\n",
       "      <td>0</td>\n",
       "      <td>-1.544290</td>\n",
       "      <td>-3.770976</td>\n",
       "    </tr>\n",
       "    <tr>\n",
       "      <th>50</th>\n",
       "      <td>0.086405</td>\n",
       "      <td>4.1045</td>\n",
       "      <td>1</td>\n",
       "      <td>-0.708826</td>\n",
       "      <td>0.084231</td>\n",
       "    </tr>\n",
       "  </tbody>\n",
       "</table>\n",
       "</div>"
      ],
      "text/plain": [
       "          X1      X2  y  SVM1 Confidence  SVM100 Confidence\n",
       "0   1.964300  4.5957  1         0.804456           3.667373\n",
       "1   2.275300  3.8589  1         0.386386           1.770079\n",
       "2   2.978100  4.5651  1         1.379671           4.701322\n",
       "3   2.932000  3.5519  1         0.524271           1.565568\n",
       "4   3.577200  2.8560  1         0.337493           0.164337\n",
       "5   4.015000  3.1937  1         0.872703           1.679132\n",
       "6   3.381400  3.4291  1         0.689974           1.691352\n",
       "7   3.911300  4.1761  1         1.614240           4.554579\n",
       "8   2.782200  4.0431  1         0.837048           2.894394\n",
       "9   2.551800  4.6162  1         1.169044           4.382942\n",
       "10  3.369800  3.9101  1         1.076236           3.142772\n",
       "11  3.104800  3.0709  1         0.233448           0.293364\n",
       "12  1.918200  4.0534  1         0.333931           1.965188\n",
       "13  2.263800  4.3706  1         0.797799           3.315070\n",
       "14  2.655500  3.5008  1         0.318803           1.102601\n",
       "15  3.185500  4.2888  1         1.276639           4.090757\n",
       "16  3.657900  3.8692  1         1.213379           3.338558\n",
       "17  3.911300  3.4291  1         1.003704           2.280475\n",
       "18  3.600200  3.1221  1         0.568599           1.000000\n",
       "19  3.035700  3.3165  1         0.393271           0.964225\n",
       "20  1.584100  3.3575  0        -0.432646          -0.524792\n",
       "21  2.010300  3.2039  0        -0.305852          -0.518566\n",
       "22  1.952700  2.7843  0        -0.682901          -1.859999\n",
       "23  2.275300  2.7127  0        -0.550424          -1.719318\n",
       "24  2.309900  2.9584  0        -0.329124          -0.932862\n",
       "25  2.828300  2.6309  0        -0.289874          -1.353538\n",
       "26  3.047300  2.2931  0        -0.436304          -2.138432\n",
       "27  2.482700  2.0373  0        -0.979648          -3.544870\n",
       "28  2.505700  2.3853  0        -0.681605          -2.459877\n",
       "29  1.872100  2.0577  0        -1.324484          -4.161608\n",
       "30  2.010300  2.3546  0        -1.000000          -3.104105\n",
       "31  1.226900  2.3239  0        -1.488907          -4.068520\n",
       "32  1.895100  2.9174  0        -0.608218          -1.518838\n",
       "33  1.561000  3.0709  0        -0.680565          -1.422975\n",
       "34  1.549500  2.6923  0        -0.996811          -2.588339\n",
       "35  1.687800  2.4057  0        -1.149173          -3.307083\n",
       "36  1.491900  2.0271  0        -1.574593          -4.677456\n",
       "37  0.962000  2.6820  0        -1.353061          -3.272856\n",
       "38  1.169300  2.9276  0        -1.029595          -2.294703\n",
       "39  0.812200  2.9992  0        -1.182497          -2.473741\n",
       "40  0.973500  3.3881  0        -0.769144          -1.110478\n",
       "41  1.250000  3.1937  0        -0.764328          -1.394891\n",
       "42  1.319100  3.5109  0        -0.464163          -0.352411\n",
       "43  2.229200  2.2010  0        -0.995939          -3.328347\n",
       "44  2.448200  2.6411  0        -0.506578          -1.745067\n",
       "45  2.793800  1.9656  0        -0.854062          -3.417278\n",
       "46  2.091000  1.6177  0        -1.554503          -5.257742\n",
       "47  2.540300  2.8867  0        -0.251316          -0.894989\n",
       "48  0.904400  3.0198  0        -1.111073          -2.308523\n",
       "49  0.766150  2.5899  0        -1.544290          -3.770976\n",
       "50  0.086405  4.1045  1        -0.708826           0.084231"
      ]
     },
     "execution_count": 92,
     "metadata": {},
     "output_type": "execute_result"
    }
   ],
   "source": [
    "data"
   ]
  },
  {
   "cell_type": "code",
   "execution_count": null,
   "metadata": {
    "collapsed": true
   },
   "outputs": [],
   "source": []
  }
 ],
 "metadata": {
  "kernelspec": {
   "display_name": "Python [default]",
   "language": "python",
   "name": "python3"
  },
  "language_info": {
   "codemirror_mode": {
    "name": "ipython",
    "version": 3
   },
   "file_extension": ".py",
   "mimetype": "text/x-python",
   "name": "python",
   "nbconvert_exporter": "python",
   "pygments_lexer": "ipython3",
   "version": "3.5.2"
  }
 },
 "nbformat": 4,
 "nbformat_minor": 1
}

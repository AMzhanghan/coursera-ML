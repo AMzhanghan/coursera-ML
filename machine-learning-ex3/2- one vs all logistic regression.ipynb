{
 "cells": [
  {
   "cell_type": "code",
   "execution_count": 105,
   "metadata": {
    "collapsed": true
   },
   "outputs": [],
   "source": [
    "%reload_ext autoreload\n",
    "%autoreload 2\n",
    "%matplotlib inline\n",
    "\n",
    "import matplotlib.pyplot as plt\n",
    "import numpy as np\n",
    "import pandas as pd\n",
    "\n",
    "import sys\n",
    "sys.path.append('..')\n",
    "\n",
    "from helper import nn\n",
    "from helper import logistic_regression as lr"
   ]
  },
  {
   "cell_type": "code",
   "execution_count": 106,
   "metadata": {
    "collapsed": false
   },
   "outputs": [
    {
     "name": "stdout",
     "output_type": "stream",
     "text": [
      "(5000, 400)\n",
      "(5000,)\n"
     ]
    }
   ],
   "source": [
    "raw_X, raw_y = nn.load_data()\n",
    "print(raw_X.shape)\n",
    "print(raw_y.shape)"
   ]
  },
  {
   "cell_type": "markdown",
   "metadata": {},
   "source": [
    "# prepare data"
   ]
  },
  {
   "cell_type": "code",
   "execution_count": 107,
   "metadata": {
    "collapsed": false
   },
   "outputs": [
    {
     "data": {
      "text/plain": [
       "(5000, 401)"
      ]
     },
     "execution_count": 107,
     "metadata": {},
     "output_type": "execute_result"
    }
   ],
   "source": [
    "# add intercept=1 for x0\n",
    "X = np.insert(raw_X, 0, values=np.ones(X.shape[0]), axis=1)\n",
    "X.shape"
   ]
  },
  {
   "cell_type": "code",
   "execution_count": 108,
   "metadata": {
    "collapsed": false
   },
   "outputs": [
    {
     "data": {
      "text/plain": [
       "(10, 5000)"
      ]
     },
     "execution_count": 108,
     "metadata": {},
     "output_type": "execute_result"
    }
   ],
   "source": [
    "# y have 10 categories here. 1..10, they represent digit 0 as category 10 because matlab index start at 1\n",
    "# I'll ditit 0, index 0 again\n",
    "y_matrix = []\n",
    "\n",
    "for k in range(1, 11):\n",
    "    y_matrix.append((raw_y == k).astype(int))\n",
    "\n",
    "# last one is k==10, it's digit 0, bring it to the first position\n",
    "y_matrix = [y_matrix[-1]] + y_matrix[:-1]\n",
    "y = np.array(y_matrix)\n",
    "\n",
    "y.shape"
   ]
  },
  {
   "cell_type": "markdown",
   "metadata": {},
   "source": [
    "# train 1 model"
   ]
  },
  {
   "cell_type": "code",
   "execution_count": 109,
   "metadata": {
    "collapsed": true
   },
   "outputs": [],
   "source": [
    "t0 = lr.logistic_regression(X, y[0])"
   ]
  },
  {
   "cell_type": "code",
   "execution_count": 110,
   "metadata": {
    "collapsed": false
   },
   "outputs": [
    {
     "name": "stdout",
     "output_type": "stream",
     "text": [
      "(401,)\n",
      "Accuracy=0.9974\n"
     ]
    }
   ],
   "source": [
    "print(t0.shape)\n",
    "y_pred = lr.predict(X, t0)\n",
    "print('Accuracy={}'.format(np.mean(y[0] == y_pred)))"
   ]
  },
  {
   "cell_type": "markdown",
   "metadata": {},
   "source": [
    "Is this real......"
   ]
  },
  {
   "cell_type": "markdown",
   "metadata": {},
   "source": [
    "# train k model"
   ]
  },
  {
   "cell_type": "code",
   "execution_count": 113,
   "metadata": {
    "collapsed": false
   },
   "outputs": [
    {
     "name": "stdout",
     "output_type": "stream",
     "text": [
      "(10, 401)\n"
     ]
    }
   ],
   "source": [
    "k_theta = np.array([lr.logistic_regression(X, y[k]) for k in range(10)])\n",
    "print(k_theta.shape)"
   ]
  },
  {
   "cell_type": "markdown",
   "metadata": {},
   "source": [
    "# making prediction\n",
    "* think about the shape of k_theta, now you are making $X\\times\\theta^T$\n",
    "> $(5000, 401) \\times (10, 401).T = (5000, 10)$\n",
    "* after that, you run sigmoid to get probabilities and for each row, you find the highest prob as the answer"
   ]
  },
  {
   "cell_type": "code",
   "execution_count": 114,
   "metadata": {
    "collapsed": true
   },
   "outputs": [],
   "source": [
    "prob_matrix = lr.sigmoid(X @ k_theta.T)"
   ]
  },
  {
   "cell_type": "code",
   "execution_count": 115,
   "metadata": {
    "collapsed": false
   },
   "outputs": [
    {
     "data": {
      "text/plain": [
       "array([[ 0.99577468,  0.        ,  0.00053556, ...,  0.00006469,\n",
       "         0.00003916,  0.00172136],\n",
       "       [ 0.99834655,  0.0000001 ,  0.00005615, ...,  0.00009695,\n",
       "         0.0000029 ,  0.0000849 ],\n",
       "       [ 0.99139761,  0.        ,  0.00056838, ...,  0.00000655,\n",
       "         0.02654992,  0.00197519],\n",
       "       ..., \n",
       "       [ 0.00000068,  0.04145024,  0.00320926, ...,  0.00012707,\n",
       "         0.0029766 ,  0.70763098],\n",
       "       [ 0.00001844,  0.00000013,  0.00000009, ...,  0.00164766,\n",
       "         0.06814744,  0.86119877],\n",
       "       [ 0.028808  ,  0.        ,  0.00012977, ...,  0.36631063,\n",
       "         0.00498364,  0.1482392 ]])"
      ]
     },
     "execution_count": 115,
     "metadata": {},
     "output_type": "execute_result"
    }
   ],
   "source": [
    "np.set_printoptions(suppress=True)\n",
    "prob_matrix"
   ]
  },
  {
   "cell_type": "code",
   "execution_count": 116,
   "metadata": {
    "collapsed": false
   },
   "outputs": [],
   "source": [
    "y_pred = np.argmax(prob_matrix, axis=1)"
   ]
  },
  {
   "cell_type": "code",
   "execution_count": 117,
   "metadata": {
    "collapsed": true
   },
   "outputs": [],
   "source": [
    "y_answer = raw_y.copy()\n",
    "y_answer[y_answer==10] = 0"
   ]
  },
  {
   "cell_type": "code",
   "execution_count": 120,
   "metadata": {
    "collapsed": false
   },
   "outputs": [
    {
     "name": "stdout",
     "output_type": "stream",
     "text": [
      "Training set accuracy = 0.9446\n"
     ]
    }
   ],
   "source": [
    "print('Training set accuracy = {}'.format(np.mean(y_pred == y_answer)))"
   ]
  },
  {
   "cell_type": "code",
   "execution_count": null,
   "metadata": {
    "collapsed": true
   },
   "outputs": [],
   "source": []
  }
 ],
 "metadata": {
  "anaconda-cloud": {},
  "kernelspec": {
   "display_name": "Python [conda env:tf]",
   "language": "python",
   "name": "conda-env-tf-py"
  },
  "language_info": {
   "codemirror_mode": {
    "name": "ipython",
    "version": 3
   },
   "file_extension": ".py",
   "mimetype": "text/x-python",
   "name": "python",
   "nbconvert_exporter": "python",
   "pygments_lexer": "ipython3",
   "version": "3.5.2"
  }
 },
 "nbformat": 4,
 "nbformat_minor": 0
}
